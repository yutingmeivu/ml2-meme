{
 "cells": [
  {
   "cell_type": "markdown",
   "metadata": {
    "id": "2iuNfDrOUdeI"
   },
   "source": [
    "# Import Modules"
   ]
  },
  {
   "cell_type": "code",
   "execution_count": 1,
   "metadata": {
    "execution": {
     "iopub.execute_input": "2022-11-26T17:00:12.184244Z",
     "iopub.status.busy": "2022-11-26T17:00:12.183804Z",
     "iopub.status.idle": "2022-11-26T17:00:18.406189Z",
     "shell.execute_reply": "2022-11-26T17:00:18.405167Z",
     "shell.execute_reply.started": "2022-11-26T17:00:12.184158Z"
    },
    "executionInfo": {
     "elapsed": 2013,
     "status": "ok",
     "timestamp": 1670096812773,
     "user": {
      "displayName": "Enya Tan",
      "userId": "08567705500335156358"
     },
     "user_tz": 360
    },
    "id": "rcNbvd-NUdeI"
   },
   "outputs": [],
   "source": [
    "import os\n",
    "import pickle\n",
    "import numpy as np\n",
    "from tqdm.notebook import tqdm\n",
    "\n",
    "from tensorflow.keras.applications.vgg16 import VGG16, preprocess_input\n",
    "from tensorflow.keras.preprocessing.image import load_img, img_to_array\n",
    "from tensorflow.keras.preprocessing.text import Tokenizer\n",
    "from tensorflow.keras.preprocessing.sequence import pad_sequences\n",
    "from tensorflow.keras.models import Model\n",
    "from tensorflow.keras.utils import to_categorical, plot_model\n",
    "from tensorflow.keras.layers import Input, Dense, LSTM, Embedding, Dropout, add"
   ]
  },
  {
   "cell_type": "markdown",
   "metadata": {
    "id": "5WVnu9f3UdeK"
   },
   "source": [
    "# Import Data_DIR , Work_DIR"
   ]
  },
  {
   "cell_type": "code",
   "execution_count": 2,
   "metadata": {
    "colab": {
     "base_uri": "https://localhost:8080/"
    },
    "executionInfo": {
     "elapsed": 1774,
     "status": "ok",
     "timestamp": 1670096816910,
     "user": {
      "displayName": "Enya Tan",
      "userId": "08567705500335156358"
     },
     "user_tz": 360
    },
    "id": "IDDq8q82XQg0",
    "outputId": "dd12fb06-ec52-450e-dc41-8baed5471c6e"
   },
   "outputs": [
    {
     "name": "stdout",
     "output_type": "stream",
     "text": [
      "Drive already mounted at /content/gdrive; to attempt to forcibly remount, call drive.mount(\"/content/gdrive\", force_remount=True).\n"
     ]
    }
   ],
   "source": [
    "from google.colab import drive\n",
    "drive.mount('/content/gdrive')\n",
    "\n",
    "pathdata = \"gdrive/My Drive/lstm/lstm_data\"\n",
    "pathwork = \"gdrive/My Drive/lstm/\""
   ]
  },
  {
   "cell_type": "code",
   "execution_count": 3,
   "metadata": {
    "execution": {
     "iopub.execute_input": "2022-11-26T17:03:11.540478Z",
     "iopub.status.busy": "2022-11-26T17:03:11.539505Z",
     "iopub.status.idle": "2022-11-26T17:03:11.544831Z",
     "shell.execute_reply": "2022-11-26T17:03:11.543791Z",
     "shell.execute_reply.started": "2022-11-26T17:03:11.540439Z"
    },
    "executionInfo": {
     "elapsed": 4,
     "status": "ok",
     "timestamp": 1670096818111,
     "user": {
      "displayName": "Enya Tan",
      "userId": "08567705500335156358"
     },
     "user_tz": 360
    },
    "id": "oAvL8c2pUdeL"
   },
   "outputs": [],
   "source": [
    "BASE_DIR = pathdata\n",
    "WORKING_DIR = pathwork"
   ]
  },
  {
   "cell_type": "markdown",
   "metadata": {
    "id": "1UH9sJQXUdeM"
   },
   "source": [
    "# Extract Image Features"
   ]
  },
  {
   "cell_type": "code",
   "execution_count": 4,
   "metadata": {
    "colab": {
     "base_uri": "https://localhost:8080/"
    },
    "execution": {
     "iopub.execute_input": "2022-11-26T17:08:22.551142Z",
     "iopub.status.busy": "2022-11-26T17:08:22.550782Z",
     "iopub.status.idle": "2022-11-26T17:08:30.601741Z",
     "shell.execute_reply": "2022-11-26T17:08:30.600712Z",
     "shell.execute_reply.started": "2022-11-26T17:08:22.551112Z"
    },
    "executionInfo": {
     "elapsed": 3385,
     "status": "ok",
     "timestamp": 1670096823098,
     "user": {
      "displayName": "Enya Tan",
      "userId": "08567705500335156358"
     },
     "user_tz": 360
    },
    "id": "XEHgRQokUdeN",
    "outputId": "d51e4d6f-d2dd-4f42-d668-bfaaf2ede274"
   },
   "outputs": [
    {
     "name": "stdout",
     "output_type": "stream",
     "text": [
      "Model: \"model\"\n",
      "_________________________________________________________________\n",
      " Layer (type)                Output Shape              Param #   \n",
      "=================================================================\n",
      " input_1 (InputLayer)        [(None, 224, 224, 3)]     0         \n",
      "                                                                 \n",
      " block1_conv1 (Conv2D)       (None, 224, 224, 64)      1792      \n",
      "                                                                 \n",
      " block1_conv2 (Conv2D)       (None, 224, 224, 64)      36928     \n",
      "                                                                 \n",
      " block1_pool (MaxPooling2D)  (None, 112, 112, 64)      0         \n",
      "                                                                 \n",
      " block2_conv1 (Conv2D)       (None, 112, 112, 128)     73856     \n",
      "                                                                 \n",
      " block2_conv2 (Conv2D)       (None, 112, 112, 128)     147584    \n",
      "                                                                 \n",
      " block2_pool (MaxPooling2D)  (None, 56, 56, 128)       0         \n",
      "                                                                 \n",
      " block3_conv1 (Conv2D)       (None, 56, 56, 256)       295168    \n",
      "                                                                 \n",
      " block3_conv2 (Conv2D)       (None, 56, 56, 256)       590080    \n",
      "                                                                 \n",
      " block3_conv3 (Conv2D)       (None, 56, 56, 256)       590080    \n",
      "                                                                 \n",
      " block3_pool (MaxPooling2D)  (None, 28, 28, 256)       0         \n",
      "                                                                 \n",
      " block4_conv1 (Conv2D)       (None, 28, 28, 512)       1180160   \n",
      "                                                                 \n",
      " block4_conv2 (Conv2D)       (None, 28, 28, 512)       2359808   \n",
      "                                                                 \n",
      " block4_conv3 (Conv2D)       (None, 28, 28, 512)       2359808   \n",
      "                                                                 \n",
      " block4_pool (MaxPooling2D)  (None, 14, 14, 512)       0         \n",
      "                                                                 \n",
      " block5_conv1 (Conv2D)       (None, 14, 14, 512)       2359808   \n",
      "                                                                 \n",
      " block5_conv2 (Conv2D)       (None, 14, 14, 512)       2359808   \n",
      "                                                                 \n",
      " block5_conv3 (Conv2D)       (None, 14, 14, 512)       2359808   \n",
      "                                                                 \n",
      " block5_pool (MaxPooling2D)  (None, 7, 7, 512)         0         \n",
      "                                                                 \n",
      " flatten (Flatten)           (None, 25088)             0         \n",
      "                                                                 \n",
      " fc1 (Dense)                 (None, 4096)              102764544 \n",
      "                                                                 \n",
      " fc2 (Dense)                 (None, 4096)              16781312  \n",
      "                                                                 \n",
      "=================================================================\n",
      "Total params: 134,260,544\n",
      "Trainable params: 134,260,544\n",
      "Non-trainable params: 0\n",
      "_________________________________________________________________\n",
      "None\n"
     ]
    }
   ],
   "source": [
    "# load vgg16 model\n",
    "model = VGG16()\n",
    "# restructure the model\n",
    "model = Model(inputs=model.inputs, outputs=model.layers[-2].output)\n",
    "# summarize\n",
    "print(model.summary())"
   ]
  },
  {
   "cell_type": "markdown",
   "metadata": {
    "id": "VJTJdhqSUdeN"
   },
   "source": [
    "# extract features from image"
   ]
  },
  {
   "cell_type": "code",
   "execution_count": 5,
   "metadata": {
    "colab": {
     "base_uri": "https://localhost:8080/",
     "height": 49,
     "referenced_widgets": [
      "9c4e7ef625934dc28cd59ac2acad275e",
      "310ad1d4f21d43539052bc841a5c5e7d",
      "6abd25b0ce494fbdb4e0d94d9efe999e",
      "d1b188677da04e17b3fcdb042e20e7d0",
      "e01548b8c7bf43369521ea5c9319c6d3",
      "c638b80c243343909a8cc1309fd72c2c",
      "aae33921b1d54af2bdbfa9176d7ce74b",
      "794e2f1dc90a4f8488fa84930fa92085",
      "88375b1b066447268ed8d981ed4c95d0",
      "a037c02b31c14c7bbadfe91dba431313",
      "8865a3177f254c04be0c119a9a1ec900"
     ]
    },
    "execution": {
     "iopub.execute_input": "2022-11-26T17:39:06.419562Z",
     "iopub.status.busy": "2022-11-26T17:39:06.419115Z",
     "iopub.status.idle": "2022-11-26T17:48:20.523543Z",
     "shell.execute_reply": "2022-11-26T17:48:20.522604Z",
     "shell.execute_reply.started": "2022-11-26T17:39:06.419531Z"
    },
    "executionInfo": {
     "elapsed": 25219,
     "status": "ok",
     "timestamp": 1670096850892,
     "user": {
      "displayName": "Enya Tan",
      "userId": "08567705500335156358"
     },
     "user_tz": 360
    },
    "id": "QUz7q_-WUdeO",
    "outputId": "ecda11fd-413c-4fec-e4e7-5a6bf18f3b4e"
   },
   "outputs": [
    {
     "data": {
      "application/vnd.jupyter.widget-view+json": {
       "model_id": "9c4e7ef625934dc28cd59ac2acad275e",
       "version_major": 2,
       "version_minor": 0
      },
      "text/plain": [
       "  0%|          | 0/300 [00:00<?, ?it/s]"
      ]
     },
     "metadata": {},
     "output_type": "display_data"
    }
   ],
   "source": [
    "features = {}\n",
    "directory = os.path.join(BASE_DIR, 'Images')\n",
    "\n",
    "for img_name in tqdm(os.listdir('/content/gdrive/MyDrive/lstm/lstm_data/Images')):\n",
    "    # load the image from file\n",
    "    img_path = directory + '/' + img_name\n",
    "    image = load_img(img_path, target_size=(224, 224))\n",
    "    # convert image pixels to numpy array\n",
    "    image = img_to_array(image)\n",
    "    # reshape data for model\n",
    "    image = image.reshape((1, image.shape[0], image.shape[1], image.shape[2]))\n",
    "    # preprocess image for vgg\n",
    "    image = preprocess_input(image)\n",
    "    # extract features\n",
    "    feature = model.predict(image, verbose=0)\n",
    "    # get image ID\n",
    "    image_id = img_name.split('.')[0]\n",
    "    # store feature\n",
    "    features[image_id] = feature"
   ]
  },
  {
   "cell_type": "markdown",
   "metadata": {
    "id": "UaPgjgFXUdeO"
   },
   "source": [
    "# store features in pickle"
   ]
  },
  {
   "cell_type": "code",
   "execution_count": 6,
   "metadata": {
    "execution": {
     "iopub.execute_input": "2022-11-26T17:49:13.095754Z",
     "iopub.status.busy": "2022-11-26T17:49:13.095334Z",
     "iopub.status.idle": "2022-11-26T17:49:13.440105Z",
     "shell.execute_reply": "2022-11-26T17:49:13.439136Z",
     "shell.execute_reply.started": "2022-11-26T17:49:13.095715Z"
    },
    "executionInfo": {
     "elapsed": 1350,
     "status": "ok",
     "timestamp": 1670096949343,
     "user": {
      "displayName": "Enya Tan",
      "userId": "08567705500335156358"
     },
     "user_tz": 360
    },
    "id": "lOq7DXzFUdeP"
   },
   "outputs": [],
   "source": [
    "# store features in pickle\n",
    "pickle.dump(features, open(os.path.join(WORKING_DIR, 'features.pkl'), 'wb'))"
   ]
  },
  {
   "cell_type": "code",
   "execution_count": 7,
   "metadata": {
    "execution": {
     "iopub.execute_input": "2022-11-26T17:50:05.843767Z",
     "iopub.status.busy": "2022-11-26T17:50:05.842815Z",
     "iopub.status.idle": "2022-11-26T17:50:05.986627Z",
     "shell.execute_reply": "2022-11-26T17:50:05.985689Z",
     "shell.execute_reply.started": "2022-11-26T17:50:05.843713Z"
    },
    "executionInfo": {
     "elapsed": 3,
     "status": "ok",
     "timestamp": 1670096950699,
     "user": {
      "displayName": "Enya Tan",
      "userId": "08567705500335156358"
     },
     "user_tz": 360
    },
    "id": "cm89CJCDUdeP"
   },
   "outputs": [],
   "source": [
    "# load features from pickle\n",
    "with open(os.path.join(WORKING_DIR, 'features.pkl'), 'rb') as f:\n",
    "    features = pickle.load(f)"
   ]
  },
  {
   "cell_type": "markdown",
   "metadata": {
    "id": "UhcwlzZcUdeP"
   },
   "source": [
    "# Load the Captions Data"
   ]
  },
  {
   "cell_type": "code",
   "execution_count": 8,
   "metadata": {
    "execution": {
     "iopub.execute_input": "2022-11-26T17:58:48.283340Z",
     "iopub.status.busy": "2022-11-26T17:58:48.282934Z",
     "iopub.status.idle": "2022-11-26T17:58:48.330834Z",
     "shell.execute_reply": "2022-11-26T17:58:48.329874Z",
     "shell.execute_reply.started": "2022-11-26T17:58:48.283306Z"
    },
    "executionInfo": {
     "elapsed": 1069,
     "status": "ok",
     "timestamp": 1670096953917,
     "user": {
      "displayName": "Enya Tan",
      "userId": "08567705500335156358"
     },
     "user_tz": 360
    },
    "id": "-BP49FgkUdeP"
   },
   "outputs": [],
   "source": [
    "with open(os.path.join(BASE_DIR, 'captions.txt'), 'r') as f:\n",
    "    next(f)\n",
    "    captions_doc = f.read()"
   ]
  },
  {
   "cell_type": "code",
   "execution_count": 9,
   "metadata": {
    "colab": {
     "base_uri": "https://localhost:8080/",
     "height": 49,
     "referenced_widgets": [
      "90974de944084203a4a900049ea227e0",
      "37a883397db844de90a6a746ea60b18d",
      "d6d7cf8f07894f76bb91a3578ab1bcef",
      "5aa457b1f66c463ab1939c0b829221e6",
      "371a9c0e58c54f1aa779a7a87ff45765",
      "c11e05f05d8f4a8186ca43545de5b23e",
      "db6dc5de911545e08212f4ff5b56ae73",
      "92c0ec45d55b41ddbee3d6ab32ddd5e5",
      "66fc9d68adf7418d8f943e0f41bc0433",
      "b2f6c29151b24fe494f1fec5a7356547",
      "24d3dc2d925d45b7b526e987f4de9b94"
     ]
    },
    "execution": {
     "iopub.execute_input": "2022-11-26T17:59:00.253332Z",
     "iopub.status.busy": "2022-11-26T17:59:00.252580Z",
     "iopub.status.idle": "2022-11-26T17:59:00.387925Z",
     "shell.execute_reply": "2022-11-26T17:59:00.386890Z",
     "shell.execute_reply.started": "2022-11-26T17:59:00.253294Z"
    },
    "executionInfo": {
     "elapsed": 9,
     "status": "ok",
     "timestamp": 1670096956495,
     "user": {
      "displayName": "Enya Tan",
      "userId": "08567705500335156358"
     },
     "user_tz": 360
    },
    "id": "7HazSoOYUdeQ",
    "outputId": "94c5acc7-7124-4a6b-b7b1-94ded54402ed"
   },
   "outputs": [
    {
     "data": {
      "application/vnd.jupyter.widget-view+json": {
       "model_id": "90974de944084203a4a900049ea227e0",
       "version_major": 2,
       "version_minor": 0
      },
      "text/plain": [
       "  0%|          | 0/74990 [00:00<?, ?it/s]"
      ]
     },
     "metadata": {},
     "output_type": "display_data"
    }
   ],
   "source": [
    "# create mapping of image to captions\n",
    "mapping = {}\n",
    "# process lines\n",
    "for line in tqdm(captions_doc.split('\\n')):\n",
    "    # split the line by comma(,)\n",
    "    tokens = line.split(',')\n",
    "    if len(line) < 2:\n",
    "        continue\n",
    "    image_id, caption = tokens[0], tokens[1:]\n",
    "    # remove extension from image ID\n",
    "    image_id = image_id.split('.')[0]\n",
    "    # convert caption list to string\n",
    "    caption = \" \".join(caption)\n",
    "    # create list if needed\n",
    "    if image_id not in mapping:\n",
    "        mapping[image_id] = []\n",
    "    # store the caption\n",
    "    mapping[image_id].append(caption)"
   ]
  },
  {
   "cell_type": "code",
   "execution_count": 10,
   "metadata": {
    "colab": {
     "base_uri": "https://localhost:8080/"
    },
    "execution": {
     "iopub.execute_input": "2022-11-26T18:00:51.920270Z",
     "iopub.status.busy": "2022-11-26T18:00:51.919893Z",
     "iopub.status.idle": "2022-11-26T18:00:51.928025Z",
     "shell.execute_reply": "2022-11-26T18:00:51.927054Z",
     "shell.execute_reply.started": "2022-11-26T18:00:51.920238Z"
    },
    "executionInfo": {
     "elapsed": 5,
     "status": "ok",
     "timestamp": 1670096959232,
     "user": {
      "displayName": "Enya Tan",
      "userId": "08567705500335156358"
     },
     "user_tz": 360
    },
    "id": "UklcGHC_UdeQ",
    "outputId": "ff4d853e-01f6-4a1f-c553-b7d432bb3a87"
   },
   "outputs": [
    {
     "data": {
      "text/plain": [
       "300"
      ]
     },
     "execution_count": 10,
     "metadata": {},
     "output_type": "execute_result"
    }
   ],
   "source": [
    "len(mapping)"
   ]
  },
  {
   "cell_type": "markdown",
   "metadata": {
    "id": "OQEyQauvUdeR"
   },
   "source": [
    "# Preprocess Text Data"
   ]
  },
  {
   "cell_type": "code",
   "execution_count": 11,
   "metadata": {
    "execution": {
     "iopub.execute_input": "2022-11-26T18:08:30.586751Z",
     "iopub.status.busy": "2022-11-26T18:08:30.586348Z",
     "iopub.status.idle": "2022-11-26T18:08:30.594066Z",
     "shell.execute_reply": "2022-11-26T18:08:30.592911Z",
     "shell.execute_reply.started": "2022-11-26T18:08:30.586718Z"
    },
    "executionInfo": {
     "elapsed": 404,
     "status": "ok",
     "timestamp": 1670096961338,
     "user": {
      "displayName": "Enya Tan",
      "userId": "08567705500335156358"
     },
     "user_tz": 360
    },
    "id": "I1VjeGNOUdeR"
   },
   "outputs": [],
   "source": [
    "def clean(mapping):\n",
    "    for key, captions in mapping.items():\n",
    "        for i in range(len(captions)):\n",
    "            # take one caption at a time\n",
    "            caption = captions[i]\n",
    "            # preprocessing steps\n",
    "            # convert to lowercase\n",
    "            caption = caption.lower()\n",
    "            # delete digits, special chars, etc., \n",
    "            caption = caption.replace('[^A-Za-z]', '')\n",
    "            # delete additional spaces\n",
    "            caption = caption.replace('\\s+', ' ')\n",
    "            # add start and end tags to the caption\n",
    "            caption = 'startseq ' + \" \".join([word for word in caption.split() if len(word)>1]) + ' endseq'\n",
    "            captions[i] = caption"
   ]
  },
  {
   "cell_type": "code",
   "execution_count": 12,
   "metadata": {
    "colab": {
     "base_uri": "https://localhost:8080/"
    },
    "execution": {
     "iopub.execute_input": "2022-11-26T18:08:31.601084Z",
     "iopub.status.busy": "2022-11-26T18:08:31.600732Z",
     "iopub.status.idle": "2022-11-26T18:08:31.607981Z",
     "shell.execute_reply": "2022-11-26T18:08:31.606711Z",
     "shell.execute_reply.started": "2022-11-26T18:08:31.601053Z"
    },
    "executionInfo": {
     "elapsed": 442,
     "status": "ok",
     "timestamp": 1670096964161,
     "user": {
      "displayName": "Enya Tan",
      "userId": "08567705500335156358"
     },
     "user_tz": 360
    },
    "id": "Xa6H0sl3UdeR",
    "outputId": "ffe69c1c-4628-4ccb-c200-4c5f2f3de79f"
   },
   "outputs": [
    {
     "data": {
      "text/plain": [
       "['\"hiTLER WASNT SUCH A BAD GUY AFTER ALL  HE DID KILL HITLER\"',\n",
       " 'its only racist If your white',\n",
       " 'be first get stuck in demigod tier',\n",
       " 'Save planet turn on air conditioning',\n",
       " 'didnt get what you want? shit on the floor',\n",
       " '\"get pinnochio to say \"\"my nose will now grow\"\" laugh as reality explodes\"',\n",
       " 'Become a dog lick your genitals all day',\n",
       " 'Want to burn some calories light a fat kid on fire',\n",
       " 'A cigarette a day keeps the doctor away',\n",
       " '\"Im so lucky in 10-12 years  I get to move to a farm in the country\"',\n",
       " 'bomb japan wipe out 90% of worlds necrophiliac population',\n",
       " 'break open a beehive free honey',\n",
       " 'Stuck in a awkward situation Racist',\n",
       " 'SeLL Drugs Become a Rapper',\n",
       " '\"what do you mean by: \"\"get off the mailman\"\" ?\"',\n",
       " '\"i could maybe \"\"take you there\"\" if you put peanut butter on your hoo hoo\"',\n",
       " 'cOVER pRIVATE aREA IN hONEY UNLEASH THE BEES!',\n",
       " 'broke something? blame me',\n",
       " 'WANT FUN? SLAP CHUCK NORRIS!',\n",
       " 'like her? hump her leg',\n",
       " 'GRASSS!! rolls in grace',\n",
       " 'Dont want to lose your keys? lock them in your house',\n",
       " 'reach for the sky breathe helium to do it faster',\n",
       " 'Everytime you poke back a puppy dies',\n",
       " 'Suck yourself off live forever',\n",
       " '\"if you have a hard dicision flip a coin \"\"what coin should i use\"\"\"',\n",
       " 'next time you eat chinese takeout think of me',\n",
       " 'LETS GO! <emp>',\n",
       " 'write your cv in comic sans employers like that',\n",
       " 'I IS PUPPY ADVICE: love me',\n",
       " 'How to save work faster ctrl + alt +delete +enter x2',\n",
       " 'no food in the foodbowl prepare to die',\n",
       " 'EAT ALL DAY FUCK ALL NIGHT',\n",
       " 'Your sarcasm skills Fucking suck',\n",
       " '\"Got Mac Problems? Download Mackeeper  A 911 App for Mac OS!\"',\n",
       " '\"i ran my wife over today  jokes  why would i be in the kitchen?\"',\n",
       " 'CANT LICK YOUR BALLS ? SUX 2 B U',\n",
       " '\"Roses are grey  violets are grey Im colorblind  FML\"',\n",
       " 'in order to get advice become advice',\n",
       " 'pc dirty? drop it in water',\n",
       " 'bUYS BATHROOM AT IKEA GETS 3 POLISH PLUMBERS',\n",
       " 'No Acid Watch yo gabba gabba',\n",
       " 'pees on lawn in one spot until grass dies',\n",
       " 'If you are an athiest.. try not to be more annoying than every religous person I have ever met',\n",
       " 'My advice when it comes to keeping your attention is alwa- ooh shiny red ball!',\n",
       " 'pour gatorade in windex bottle drink in public',\n",
       " 'I saw a rainbow just kidding...',\n",
       " 'instead of worrying about Abortion get your tubes tide',\n",
       " 'Swim in pudding No need for a tan',\n",
       " '\"liquor before beer  youre in the clear BEER BEFORE liquour  youre in the clear\"',\n",
       " 'Mosquitos? Burn your house!',\n",
       " 'your mom said she was going out and hasnt returned for 10 years throw a party',\n",
       " 'Smoke less weed Take more adderall',\n",
       " 'eat crayons Taste the rainbow',\n",
       " 'attenti al... ..padrone',\n",
       " 'cop trying to pull you over? Try to get away!',\n",
       " 'if you have seen a tv commercial so many times it becomes annoying you watch way too much tv',\n",
       " 'YOU SCARED OF HEIGHTS? LETS GO RIDE THE ROLLER COASTER!',\n",
       " 'There is just one thing i need to tell you My bum is in your face',\n",
       " 'Make Quality Videos Use Windows Movie Maker',\n",
       " 'Eat rotten fruit from neighbors tree maser stays home and i get pets',\n",
       " 'dont listen to honey singh without headphones chances are high of getting beaten up',\n",
       " 'YOU LET ALL THOSE PEOPLE IN WITHOUT SMELLING THEIR ASSES',\n",
       " 'maybe instead of complaining about how much your wedding is you could just not spend so much',\n",
       " 'Bing is the best search engine To search how to change it to Google',\n",
       " 'Dont Miss Out! Folsom LGBT youths meeting tonite!',\n",
       " 'Rush b dont stop no flash no nothing',\n",
       " 'im not sushi <emp>',\n",
       " 'be respectful',\n",
       " 'If you see muslim Make it to eat pork',\n",
       " 'i work for kgb if they need me im there to help',\n",
       " 'eat captain crunch become a captain',\n",
       " 'Emma watson gtfo',\n",
       " 'only attack main that tower dead = win',\n",
       " 'bring the kitty and drink it',\n",
       " 'SHOOT ARROWS KILL IFRIT',\n",
       " 'GET DRUNK SCREW A BALD GUY',\n",
       " 'ADELHEID WILL BE A MAJOR CHARACTER IN KOF XIII HE DIDNT MAKE EVEN THROUGH THE DLCS',\n",
       " 'share needles save for more drugs',\n",
       " 'Chase balls dont lick them',\n",
       " 'I shat on your bed <emp>',\n",
       " 'ASK QUESTIONS EMBArRAsS LECTURER',\n",
       " 'Nyt ei kiukutella koska huomenna pakko ottaa',\n",
       " 'stick a fork in an outlet it makes pretty lights',\n",
       " 'Find Scum Search for deadly',\n",
       " 'Frawlz play some games take your hands out of your pants',\n",
       " 'Cant get laid? Fuck your sister',\n",
       " 'complains when i stand on furniture shits on it',\n",
       " 'charge five thousand dollars to credit card flee to europe',\n",
       " 'ME LA SUDA BIEN',\n",
       " 'In Case of fire Hide in Closet',\n",
       " 'If it looks liks a taco and tastes like a fish it must be a tasty dish',\n",
       " 'Wear a Sweater in Texas Portable sauna',\n",
       " 'iQ 50? yOU SHOULD PROBABLY DANCE',\n",
       " 'dog? im no dog',\n",
       " 'owner says we are going to the vet because im sick goes there to remove balls',\n",
       " 'need attention? masturbate in public',\n",
       " 'Scheduled repairs at 7:30 in the morning? Deadbolt the door!',\n",
       " 'B*es Aint S* But hoes and tricks',\n",
       " 'mash hard be pro',\n",
       " 'open thread talk gibberish',\n",
       " 'what do you mean i need a top 5 qb? i have cutler...',\n",
       " 'See crying girl punch in face!',\n",
       " 'Assignment due in 1 hour EAT LUNCH FIRST',\n",
       " 'Take the snap Immediately drop it',\n",
       " 'Yeah why fight?',\n",
       " 'lag? my ass!',\n",
       " 'This is Dogmeat!',\n",
       " 'finally get accepted into uga drink bleach to celebrate',\n",
       " 'Havent made superbowl in 16 years elite franchise',\n",
       " 'dont walk int he hallways youll just start to run',\n",
       " 'Practice hard Brat malmsteen',\n",
       " 'everything will be alright... just listen to assholes in the media',\n",
       " 'looking for a sensitive modern male? date chris brown',\n",
       " 'TAKE SHROOMS TALK TO DEMONS',\n",
       " 'buy pencils eatem',\n",
       " '\"roses are red  violets are blue cheese on toast\"',\n",
       " 'eat the same food every day still being happy',\n",
       " 'Shit inside Born to be wild',\n",
       " 'wear chinos become an accepted and respected member of society',\n",
       " 'run out of ideas for a mem snort COCAINE and shove a hamster up your ass',\n",
       " 'Finish like the cowboys',\n",
       " 'Have you seen this dog? Not until now??!',\n",
       " 'STRIKE A FLOATING EYE DIE WHILE HELPLESS',\n",
       " 'I have A Pedigree',\n",
       " 'gay pride day at disney dress up as dancing bear',\n",
       " 'Hear voices punt skull',\n",
       " 'LIikaa rahaa? lottoa!',\n",
       " 'Go green Eat leprechauns',\n",
       " 'earn a phd scholarship be poor for four years',\n",
       " 'Thought this was advice dog? Nope. Chuck Testa',\n",
       " 'play like a pro max the hiding place',\n",
       " 'does Some stupid dog thing wins on AFV',\n",
       " 'Interior Semiotics Relieve yourself',\n",
       " 'hey maybe if you didnt beg for op like a 7 year old you could actually be a op',\n",
       " 'Narang calls become retarded again',\n",
       " 'vote perry feng for president he has epic stickers',\n",
       " 'Im a dogGY ftw!',\n",
       " 'I feel so bad for you... just kidding!',\n",
       " 'When god gives you lemons you paint that s*t gold',\n",
       " 'DO DEATHCORE CALL IT MIXSTYLECORE',\n",
       " 'was that gatorade or antifreeze in the driveway? drank it anyway.',\n",
       " 'Vegetarians are slowly killing all the animals by eating their food!',\n",
       " 'i liked you?! hahahahahahahahaha',\n",
       " 'not everything in life needs to be a meme',\n",
       " 'Banned from wikipedia? Blame special interests',\n",
       " '\"ROSES ARE GREY  VIOLETS ARE GRAY  YOUR MOTHER IS A SEAGULL EVERYDAY!\"',\n",
       " 'buy rock band play with yourself',\n",
       " 'CAUTERISE WOUND POUR BOILING TAR ON IT',\n",
       " 'eat full tub of ice cream flood the toilet with toilet paper and shit',\n",
       " 'barfed up my cereal this morning second breakfast',\n",
       " 'Own hundred milLION DOLLAR mansion Live in cave.',\n",
       " 'My two bestest buddies joe and doe!',\n",
       " 'its an option select dont think just do it',\n",
       " 'Go see the new transformers movie Youll love it',\n",
       " 'SMOKE WEED DONT ACCOMPLISH THINGS',\n",
       " 'add braden get swag',\n",
       " 'I-pod not working? put it in the microwave for 2 minutes. it will double your memory',\n",
       " '<emp> not even funny',\n",
       " 'order pizza pay with snakes',\n",
       " 'I believe i can fly',\n",
       " 'STOP LOOKING AT DOGS AND GET TO WORK',\n",
       " 'SERVER NOT WORKING? SLAP A HOBO!',\n",
       " 'Win nine hundred dollars bring takeout',\n",
       " 'face fuck then blast her with particles of warm semen',\n",
       " 'Im in Lesbians with you 3',\n",
       " 'Im a baby Ellie bear!',\n",
       " 'the more you know the leSS you dont',\n",
       " '\"yeah  this guy is mad What i do\"',\n",
       " 'SEND MASS EMAIL DONT USE BCC',\n",
       " 'Think of something clever Wait to post it on a weeknight to get more likes',\n",
       " 'Stood in pub watching derby pretend youre not a united fan',\n",
       " 'My advice would get me banned',\n",
       " 'Different Vcs are different',\n",
       " 'Cant deposit/withdraw GRIND FREEROLLS',\n",
       " 'You Dont Need to Be Good At Factoring You Have to be Super flaming superheros of factoring!',\n",
       " 'Im nice dog Dont hurt me Harlan!!!',\n",
       " 'Spray bleach clean seat',\n",
       " 'skip class play in snow',\n",
       " 'ShE PUT YOU IN FRIENDZONE YOU PUT HER IN RAPEZONE',\n",
       " 'Join OFA Elect out of State Democrats',\n",
       " 'yo dawg I heard you like sex So I took a shit in yo bed.',\n",
       " 'Be rodrigo ortega Connoisseur of pepperoni nipples',\n",
       " 'CAN YOU HEAR ME MAD DOG',\n",
       " 'Fit mixed guns Hit at any range!',\n",
       " 'return book <emp>',\n",
       " 'pAMPE USES PREZZI NO ONE GIVES A SHIT',\n",
       " 'SMOKE CRACK IT GIVES YOU ENERGY',\n",
       " 'Disregard rules aquire ban',\n",
       " '7 years older and i still cant use a computer',\n",
       " 'Im zeus why dont u love me bro?',\n",
       " 'Laugh that mw3 is just a copy of mw2 Cry because bf3 is not bf2',\n",
       " 'Listen to everything Tom says <emp>',\n",
       " 'wanna make your guy mad ? Get a threesome with his brother and best friend',\n",
       " 'its a great idea to buy speed in A bus station bathroom',\n",
       " 'see forced meme Downvote',\n",
       " 'Take cocaine Shit on homeless man',\n",
       " 'make minecraft ghetto? delete .bin',\n",
       " 'SPEED UP UR COMPUTER HOOK IT UP TO UR CAR BATTERY',\n",
       " 'fix your credit buy that house',\n",
       " 'Drink the detersive be immortal!',\n",
       " 'get 69 be a',\n",
       " 'under msar 90th percentile dont apply',\n",
       " 'FUCK OP Hijack thread',\n",
       " 'Join lunicore get exp irl',\n",
       " 'haters got you down? CRY HAVOC',\n",
       " 'Eizi Eiz hat geburtstag',\n",
       " 'meme ita solo il meglio',\n",
       " 'Click the thing Stuff happens!',\n",
       " 'If I evolved from wolves Why are they still around?',\n",
       " 'Pay for college read manga',\n",
       " 'I really do love you Now give me food or Im going to make you feel like shit',\n",
       " 'GONNA THRow ur child in a van <emp>',\n",
       " 'eat dead racoons die of rabies',\n",
       " 'Be nice with kiddies give them candie and offer them a ride',\n",
       " 'new to the downe scene? dress like everyone in it',\n",
       " 'get drunk completely reorganize software repository',\n",
       " 'WOOEE MUST BE A GOOD DOG!',\n",
       " 'still not as grey as twilight',\n",
       " 'Become a lesbian ??? PROFIT',\n",
       " 'alice hglhdglkhd',\n",
       " 'NEver thought that there are so many 9gaggers',\n",
       " 'she liked your status? poke her',\n",
       " 'Missed cut in Prague? LeAve George And go to a strip club',\n",
       " 'I should go to bed then wake up early and work my life away',\n",
       " 'DROP your lancet grab a twix',\n",
       " 'give presentation Eat clicker',\n",
       " 'wanna be in 2 places at same time? learn ozmoze LOL',\n",
       " '\"RoSES ARE GREY  VIOLETS ARE GRAY EVERYTHINGS GRAY  I FUCKIN LOVE GRAY\"',\n",
       " 'Running low on time? better tweet about it',\n",
       " 'Master PLAYS GAMES licks his toes',\n",
       " 'Stop posting THAT SHIT!',\n",
       " 'dont park up your turbo will explode',\n",
       " 'its SHOW TIME!!! <emp>',\n",
       " 'femmale canine??! where!!!',\n",
       " 'share embed',\n",
       " 'BABY SITTING? ANAL SEX',\n",
       " '\"I dont always touch my girlfriends vagina But when I do  she doesnt swipe my hand away\"',\n",
       " 'go to prom with hot girl find out shes lesbo',\n",
       " 'woof go fuck yourself',\n",
       " 'WANT FREE GOLD /CAMP',\n",
       " 'Attend penn State ass Fuck boys',\n",
       " 'spell devil and god backwards BOW TO ME',\n",
       " 'cure for cancer? Si Capitan',\n",
       " 'Thank a vet... they take care of sick animals',\n",
       " 'Lol servers actually working',\n",
       " 'play a scrim home works for gimps',\n",
       " 'Took chantix Now snozberries taste like snozberries',\n",
       " 'See that obvious virus download link? You should click on it to win $$$',\n",
       " 'HATE NEW TWITTER SETTINGS ACCOUNT Deactivate my account']"
      ]
     },
     "execution_count": 12,
     "metadata": {},
     "output_type": "execute_result"
    }
   ],
   "source": [
    "# before preprocess of text\n",
    "mapping['advice-dog']"
   ]
  },
  {
   "cell_type": "code",
   "execution_count": 13,
   "metadata": {
    "execution": {
     "iopub.execute_input": "2022-11-26T18:08:32.579309Z",
     "iopub.status.busy": "2022-11-26T18:08:32.578926Z",
     "iopub.status.idle": "2022-11-26T18:08:32.717554Z",
     "shell.execute_reply": "2022-11-26T18:08:32.716610Z",
     "shell.execute_reply.started": "2022-11-26T18:08:32.579279Z"
    },
    "executionInfo": {
     "elapsed": 634,
     "status": "ok",
     "timestamp": 1670096968315,
     "user": {
      "displayName": "Enya Tan",
      "userId": "08567705500335156358"
     },
     "user_tz": 360
    },
    "id": "YWTNhefmUdeS"
   },
   "outputs": [],
   "source": [
    "# preprocess the text\n",
    "clean(mapping)"
   ]
  },
  {
   "cell_type": "code",
   "execution_count": 14,
   "metadata": {
    "colab": {
     "base_uri": "https://localhost:8080/"
    },
    "execution": {
     "iopub.execute_input": "2022-11-26T18:08:51.245706Z",
     "iopub.status.busy": "2022-11-26T18:08:51.245336Z",
     "iopub.status.idle": "2022-11-26T18:08:51.252669Z",
     "shell.execute_reply": "2022-11-26T18:08:51.251574Z",
     "shell.execute_reply.started": "2022-11-26T18:08:51.245671Z"
    },
    "executionInfo": {
     "elapsed": 8,
     "status": "ok",
     "timestamp": 1670096970190,
     "user": {
      "displayName": "Enya Tan",
      "userId": "08567705500335156358"
     },
     "user_tz": 360
    },
    "id": "dHweVWcIUdeS",
    "outputId": "ebe85165-6556-4570-cf91-5fc7e91589e2"
   },
   "outputs": [
    {
     "data": {
      "text/plain": [
       "['startseq \"hitler wasnt such bad guy after all he did kill hitler\" endseq',\n",
       " 'startseq its only racist if your white endseq',\n",
       " 'startseq be first get stuck in demigod tier endseq',\n",
       " 'startseq save planet turn on air conditioning endseq',\n",
       " 'startseq didnt get what you want? shit on the floor endseq',\n",
       " 'startseq \"get pinnochio to say \"\"my nose will now grow\"\" laugh as reality explodes\" endseq',\n",
       " 'startseq become dog lick your genitals all day endseq',\n",
       " 'startseq want to burn some calories light fat kid on fire endseq',\n",
       " 'startseq cigarette day keeps the doctor away endseq',\n",
       " 'startseq \"im so lucky in 10-12 years get to move to farm in the country\" endseq',\n",
       " 'startseq bomb japan wipe out 90% of worlds necrophiliac population endseq',\n",
       " 'startseq break open beehive free honey endseq',\n",
       " 'startseq stuck in awkward situation racist endseq',\n",
       " 'startseq sell drugs become rapper endseq',\n",
       " 'startseq \"what do you mean by: \"\"get off the mailman\"\" ?\" endseq',\n",
       " 'startseq \"i could maybe \"\"take you there\"\" if you put peanut butter on your hoo hoo\" endseq',\n",
       " 'startseq cover private area in honey unleash the bees! endseq',\n",
       " 'startseq broke something? blame me endseq',\n",
       " 'startseq want fun? slap chuck norris! endseq',\n",
       " 'startseq like her? hump her leg endseq',\n",
       " 'startseq grasss!! rolls in grace endseq',\n",
       " 'startseq dont want to lose your keys? lock them in your house endseq',\n",
       " 'startseq reach for the sky breathe helium to do it faster endseq',\n",
       " 'startseq everytime you poke back puppy dies endseq',\n",
       " 'startseq suck yourself off live forever endseq',\n",
       " 'startseq \"if you have hard dicision flip coin \"\"what coin should use\"\"\" endseq',\n",
       " 'startseq next time you eat chinese takeout think of me endseq',\n",
       " 'startseq lets go! <emp> endseq',\n",
       " 'startseq write your cv in comic sans employers like that endseq',\n",
       " 'startseq is puppy advice: love me endseq',\n",
       " 'startseq how to save work faster ctrl alt +delete +enter x2 endseq',\n",
       " 'startseq no food in the foodbowl prepare to die endseq',\n",
       " 'startseq eat all day fuck all night endseq',\n",
       " 'startseq your sarcasm skills fucking suck endseq',\n",
       " 'startseq \"got mac problems? download mackeeper 911 app for mac os!\" endseq',\n",
       " 'startseq \"i ran my wife over today jokes why would be in the kitchen?\" endseq',\n",
       " 'startseq cant lick your balls sux endseq',\n",
       " 'startseq \"roses are grey violets are grey im colorblind fml\" endseq',\n",
       " 'startseq in order to get advice become advice endseq',\n",
       " 'startseq pc dirty? drop it in water endseq',\n",
       " 'startseq buys bathroom at ikea gets polish plumbers endseq',\n",
       " 'startseq no acid watch yo gabba gabba endseq',\n",
       " 'startseq pees on lawn in one spot until grass dies endseq',\n",
       " 'startseq if you are an athiest.. try not to be more annoying than every religous person have ever met endseq',\n",
       " 'startseq my advice when it comes to keeping your attention is alwa- ooh shiny red ball! endseq',\n",
       " 'startseq pour gatorade in windex bottle drink in public endseq',\n",
       " 'startseq saw rainbow just kidding... endseq',\n",
       " 'startseq instead of worrying about abortion get your tubes tide endseq',\n",
       " 'startseq swim in pudding no need for tan endseq',\n",
       " 'startseq \"liquor before beer youre in the clear beer before liquour youre in the clear\" endseq',\n",
       " 'startseq mosquitos? burn your house! endseq',\n",
       " 'startseq your mom said she was going out and hasnt returned for 10 years throw party endseq',\n",
       " 'startseq smoke less weed take more adderall endseq',\n",
       " 'startseq eat crayons taste the rainbow endseq',\n",
       " 'startseq attenti al... ..padrone endseq',\n",
       " 'startseq cop trying to pull you over? try to get away! endseq',\n",
       " 'startseq if you have seen tv commercial so many times it becomes annoying you watch way too much tv endseq',\n",
       " 'startseq you scared of heights? lets go ride the roller coaster! endseq',\n",
       " 'startseq there is just one thing need to tell you my bum is in your face endseq',\n",
       " 'startseq make quality videos use windows movie maker endseq',\n",
       " 'startseq eat rotten fruit from neighbors tree maser stays home and get pets endseq',\n",
       " 'startseq dont listen to honey singh without headphones chances are high of getting beaten up endseq',\n",
       " 'startseq you let all those people in without smelling their asses endseq',\n",
       " 'startseq maybe instead of complaining about how much your wedding is you could just not spend so much endseq',\n",
       " 'startseq bing is the best search engine to search how to change it to google endseq',\n",
       " 'startseq dont miss out! folsom lgbt youths meeting tonite! endseq',\n",
       " 'startseq rush dont stop no flash no nothing endseq',\n",
       " 'startseq im not sushi <emp> endseq',\n",
       " 'startseq be respectful endseq',\n",
       " 'startseq if you see muslim make it to eat pork endseq',\n",
       " 'startseq work for kgb if they need me im there to help endseq',\n",
       " 'startseq eat captain crunch become captain endseq',\n",
       " 'startseq emma watson gtfo endseq',\n",
       " 'startseq only attack main that tower dead win endseq',\n",
       " 'startseq bring the kitty and drink it endseq',\n",
       " 'startseq shoot arrows kill ifrit endseq',\n",
       " 'startseq get drunk screw bald guy endseq',\n",
       " 'startseq adelheid will be major character in kof xiii he didnt make even through the dlcs endseq',\n",
       " 'startseq share needles save for more drugs endseq',\n",
       " 'startseq chase balls dont lick them endseq',\n",
       " 'startseq shat on your bed <emp> endseq',\n",
       " 'startseq ask questions embarrass lecturer endseq',\n",
       " 'startseq nyt ei kiukutella koska huomenna pakko ottaa endseq',\n",
       " 'startseq stick fork in an outlet it makes pretty lights endseq',\n",
       " 'startseq find scum search for deadly endseq',\n",
       " 'startseq frawlz play some games take your hands out of your pants endseq',\n",
       " 'startseq cant get laid? fuck your sister endseq',\n",
       " 'startseq complains when stand on furniture shits on it endseq',\n",
       " 'startseq charge five thousand dollars to credit card flee to europe endseq',\n",
       " 'startseq me la suda bien endseq',\n",
       " 'startseq in case of fire hide in closet endseq',\n",
       " 'startseq if it looks liks taco and tastes like fish it must be tasty dish endseq',\n",
       " 'startseq wear sweater in texas portable sauna endseq',\n",
       " 'startseq iq 50? you should probably dance endseq',\n",
       " 'startseq dog? im no dog endseq',\n",
       " 'startseq owner says we are going to the vet because im sick goes there to remove balls endseq',\n",
       " 'startseq need attention? masturbate in public endseq',\n",
       " 'startseq scheduled repairs at 7:30 in the morning? deadbolt the door! endseq',\n",
       " 'startseq b*es aint s* but hoes and tricks endseq',\n",
       " 'startseq mash hard be pro endseq',\n",
       " 'startseq open thread talk gibberish endseq',\n",
       " 'startseq what do you mean need top qb? have cutler... endseq',\n",
       " 'startseq see crying girl punch in face! endseq',\n",
       " 'startseq assignment due in hour eat lunch first endseq',\n",
       " 'startseq take the snap immediately drop it endseq',\n",
       " 'startseq yeah why fight? endseq',\n",
       " 'startseq lag? my ass! endseq',\n",
       " 'startseq this is dogmeat! endseq',\n",
       " 'startseq finally get accepted into uga drink bleach to celebrate endseq',\n",
       " 'startseq havent made superbowl in 16 years elite franchise endseq',\n",
       " 'startseq dont walk int he hallways youll just start to run endseq',\n",
       " 'startseq practice hard brat malmsteen endseq',\n",
       " 'startseq everything will be alright... just listen to assholes in the media endseq',\n",
       " 'startseq looking for sensitive modern male? date chris brown endseq',\n",
       " 'startseq take shrooms talk to demons endseq',\n",
       " 'startseq buy pencils eatem endseq',\n",
       " 'startseq \"roses are red violets are blue cheese on toast\" endseq',\n",
       " 'startseq eat the same food every day still being happy endseq',\n",
       " 'startseq shit inside born to be wild endseq',\n",
       " 'startseq wear chinos become an accepted and respected member of society endseq',\n",
       " 'startseq run out of ideas for mem snort cocaine and shove hamster up your ass endseq',\n",
       " 'startseq finish like the cowboys endseq',\n",
       " 'startseq have you seen this dog? not until now??! endseq',\n",
       " 'startseq strike floating eye die while helpless endseq',\n",
       " 'startseq have pedigree endseq',\n",
       " 'startseq gay pride day at disney dress up as dancing bear endseq',\n",
       " 'startseq hear voices punt skull endseq',\n",
       " 'startseq liikaa rahaa? lottoa! endseq',\n",
       " 'startseq go green eat leprechauns endseq',\n",
       " 'startseq earn phd scholarship be poor for four years endseq',\n",
       " 'startseq thought this was advice dog? nope. chuck testa endseq',\n",
       " 'startseq play like pro max the hiding place endseq',\n",
       " 'startseq does some stupid dog thing wins on afv endseq',\n",
       " 'startseq interior semiotics relieve yourself endseq',\n",
       " 'startseq hey maybe if you didnt beg for op like year old you could actually be op endseq',\n",
       " 'startseq narang calls become retarded again endseq',\n",
       " 'startseq vote perry feng for president he has epic stickers endseq',\n",
       " 'startseq im doggy ftw! endseq',\n",
       " 'startseq feel so bad for you... just kidding! endseq',\n",
       " 'startseq when god gives you lemons you paint that s*t gold endseq',\n",
       " 'startseq do deathcore call it mixstylecore endseq',\n",
       " 'startseq was that gatorade or antifreeze in the driveway? drank it anyway. endseq',\n",
       " 'startseq vegetarians are slowly killing all the animals by eating their food! endseq',\n",
       " 'startseq liked you?! hahahahahahahahaha endseq',\n",
       " 'startseq not everything in life needs to be meme endseq',\n",
       " 'startseq banned from wikipedia? blame special interests endseq',\n",
       " 'startseq \"roses are grey violets are gray your mother is seagull everyday!\" endseq',\n",
       " 'startseq buy rock band play with yourself endseq',\n",
       " 'startseq cauterise wound pour boiling tar on it endseq',\n",
       " 'startseq eat full tub of ice cream flood the toilet with toilet paper and shit endseq',\n",
       " 'startseq barfed up my cereal this morning second breakfast endseq',\n",
       " 'startseq own hundred million dollar mansion live in cave. endseq',\n",
       " 'startseq my two bestest buddies joe and doe! endseq',\n",
       " 'startseq its an option select dont think just do it endseq',\n",
       " 'startseq go see the new transformers movie youll love it endseq',\n",
       " 'startseq smoke weed dont accomplish things endseq',\n",
       " 'startseq add braden get swag endseq',\n",
       " 'startseq i-pod not working? put it in the microwave for minutes. it will double your memory endseq',\n",
       " 'startseq <emp> not even funny endseq',\n",
       " 'startseq order pizza pay with snakes endseq',\n",
       " 'startseq believe can fly endseq',\n",
       " 'startseq stop looking at dogs and get to work endseq',\n",
       " 'startseq server not working? slap hobo! endseq',\n",
       " 'startseq win nine hundred dollars bring takeout endseq',\n",
       " 'startseq face fuck then blast her with particles of warm semen endseq',\n",
       " 'startseq im in lesbians with you endseq',\n",
       " 'startseq im baby ellie bear! endseq',\n",
       " 'startseq the more you know the less you dont endseq',\n",
       " 'startseq \"yeah this guy is mad what do\" endseq',\n",
       " 'startseq send mass email dont use bcc endseq',\n",
       " 'startseq think of something clever wait to post it on weeknight to get more likes endseq',\n",
       " 'startseq stood in pub watching derby pretend youre not united fan endseq',\n",
       " 'startseq my advice would get me banned endseq',\n",
       " 'startseq different vcs are different endseq',\n",
       " 'startseq cant deposit/withdraw grind freerolls endseq',\n",
       " 'startseq you dont need to be good at factoring you have to be super flaming superheros of factoring! endseq',\n",
       " 'startseq im nice dog dont hurt me harlan!!! endseq',\n",
       " 'startseq spray bleach clean seat endseq',\n",
       " 'startseq skip class play in snow endseq',\n",
       " 'startseq she put you in friendzone you put her in rapezone endseq',\n",
       " 'startseq join ofa elect out of state democrats endseq',\n",
       " 'startseq yo dawg heard you like sex so took shit in yo bed. endseq',\n",
       " 'startseq be rodrigo ortega connoisseur of pepperoni nipples endseq',\n",
       " 'startseq can you hear me mad dog endseq',\n",
       " 'startseq fit mixed guns hit at any range! endseq',\n",
       " 'startseq return book <emp> endseq',\n",
       " 'startseq pampe uses prezzi no one gives shit endseq',\n",
       " 'startseq smoke crack it gives you energy endseq',\n",
       " 'startseq disregard rules aquire ban endseq',\n",
       " 'startseq years older and still cant use computer endseq',\n",
       " 'startseq im zeus why dont love me bro? endseq',\n",
       " 'startseq laugh that mw3 is just copy of mw2 cry because bf3 is not bf2 endseq',\n",
       " 'startseq listen to everything tom says <emp> endseq',\n",
       " 'startseq wanna make your guy mad get threesome with his brother and best friend endseq',\n",
       " 'startseq its great idea to buy speed in bus station bathroom endseq',\n",
       " 'startseq see forced meme downvote endseq',\n",
       " 'startseq take cocaine shit on homeless man endseq',\n",
       " 'startseq make minecraft ghetto? delete .bin endseq',\n",
       " 'startseq speed up ur computer hook it up to ur car battery endseq',\n",
       " 'startseq fix your credit buy that house endseq',\n",
       " 'startseq drink the detersive be immortal! endseq',\n",
       " 'startseq get 69 be endseq',\n",
       " 'startseq under msar 90th percentile dont apply endseq',\n",
       " 'startseq fuck op hijack thread endseq',\n",
       " 'startseq join lunicore get exp irl endseq',\n",
       " 'startseq haters got you down? cry havoc endseq',\n",
       " 'startseq eizi eiz hat geburtstag endseq',\n",
       " 'startseq meme ita solo il meglio endseq',\n",
       " 'startseq click the thing stuff happens! endseq',\n",
       " 'startseq if evolved from wolves why are they still around? endseq',\n",
       " 'startseq pay for college read manga endseq',\n",
       " 'startseq really do love you now give me food or im going to make you feel like shit endseq',\n",
       " 'startseq gonna throw ur child in van <emp> endseq',\n",
       " 'startseq eat dead racoons die of rabies endseq',\n",
       " 'startseq be nice with kiddies give them candie and offer them ride endseq',\n",
       " 'startseq new to the downe scene? dress like everyone in it endseq',\n",
       " 'startseq get drunk completely reorganize software repository endseq',\n",
       " 'startseq wooee must be good dog! endseq',\n",
       " 'startseq still not as grey as twilight endseq',\n",
       " 'startseq become lesbian ??? profit endseq',\n",
       " 'startseq alice hglhdglkhd endseq',\n",
       " 'startseq never thought that there are so many 9gaggers endseq',\n",
       " 'startseq she liked your status? poke her endseq',\n",
       " 'startseq missed cut in prague? leave george and go to strip club endseq',\n",
       " 'startseq should go to bed then wake up early and work my life away endseq',\n",
       " 'startseq drop your lancet grab twix endseq',\n",
       " 'startseq give presentation eat clicker endseq',\n",
       " 'startseq wanna be in places at same time? learn ozmoze lol endseq',\n",
       " 'startseq \"roses are grey violets are gray everythings gray fuckin love gray\" endseq',\n",
       " 'startseq running low on time? better tweet about it endseq',\n",
       " 'startseq master plays games licks his toes endseq',\n",
       " 'startseq stop posting that shit! endseq',\n",
       " 'startseq dont park up your turbo will explode endseq',\n",
       " 'startseq its show time!!! <emp> endseq',\n",
       " 'startseq femmale canine??! where!!! endseq',\n",
       " 'startseq share embed endseq',\n",
       " 'startseq baby sitting? anal sex endseq',\n",
       " 'startseq \"i dont always touch my girlfriends vagina but when do she doesnt swipe my hand away\" endseq',\n",
       " 'startseq go to prom with hot girl find out shes lesbo endseq',\n",
       " 'startseq woof go fuck yourself endseq',\n",
       " 'startseq want free gold /camp endseq',\n",
       " 'startseq attend penn state ass fuck boys endseq',\n",
       " 'startseq spell devil and god backwards bow to me endseq',\n",
       " 'startseq cure for cancer? si capitan endseq',\n",
       " 'startseq thank vet... they take care of sick animals endseq',\n",
       " 'startseq lol servers actually working endseq',\n",
       " 'startseq play scrim home works for gimps endseq',\n",
       " 'startseq took chantix now snozberries taste like snozberries endseq',\n",
       " 'startseq see that obvious virus download link? you should click on it to win $$$ endseq',\n",
       " 'startseq hate new twitter settings account deactivate my account endseq']"
      ]
     },
     "execution_count": 14,
     "metadata": {},
     "output_type": "execute_result"
    }
   ],
   "source": [
    "# after preprocess of text\n",
    "mapping['advice-dog']"
   ]
  },
  {
   "cell_type": "code",
   "execution_count": 15,
   "metadata": {
    "execution": {
     "iopub.execute_input": "2022-11-26T18:37:09.568317Z",
     "iopub.status.busy": "2022-11-26T18:37:09.567926Z",
     "iopub.status.idle": "2022-11-26T18:37:09.586589Z",
     "shell.execute_reply": "2022-11-26T18:37:09.585417Z",
     "shell.execute_reply.started": "2022-11-26T18:37:09.568280Z"
    },
    "executionInfo": {
     "elapsed": 5,
     "status": "ok",
     "timestamp": 1670096974114,
     "user": {
      "displayName": "Enya Tan",
      "userId": "08567705500335156358"
     },
     "user_tz": 360
    },
    "id": "XTGeuXuiUdeS"
   },
   "outputs": [],
   "source": [
    "all_captions = []\n",
    "for key in mapping:\n",
    "    for caption in mapping[key]:\n",
    "        all_captions.append(caption)"
   ]
  },
  {
   "cell_type": "code",
   "execution_count": 16,
   "metadata": {
    "colab": {
     "base_uri": "https://localhost:8080/"
    },
    "execution": {
     "iopub.execute_input": "2022-11-26T18:37:20.199324Z",
     "iopub.status.busy": "2022-11-26T18:37:20.198977Z",
     "iopub.status.idle": "2022-11-26T18:37:20.205899Z",
     "shell.execute_reply": "2022-11-26T18:37:20.204658Z",
     "shell.execute_reply.started": "2022-11-26T18:37:20.199294Z"
    },
    "executionInfo": {
     "elapsed": 6,
     "status": "ok",
     "timestamp": 1670096976412,
     "user": {
      "displayName": "Enya Tan",
      "userId": "08567705500335156358"
     },
     "user_tz": 360
    },
    "id": "KlX8TgVJUdeS",
    "outputId": "5ba976f7-b4d4-45c3-b44f-30c580815d23"
   },
   "outputs": [
    {
     "data": {
      "text/plain": [
       "74989"
      ]
     },
     "execution_count": 16,
     "metadata": {},
     "output_type": "execute_result"
    }
   ],
   "source": [
    "len(all_captions)"
   ]
  },
  {
   "cell_type": "code",
   "execution_count": 17,
   "metadata": {
    "colab": {
     "base_uri": "https://localhost:8080/"
    },
    "execution": {
     "iopub.execute_input": "2022-11-26T18:37:28.664272Z",
     "iopub.status.busy": "2022-11-26T18:37:28.663029Z",
     "iopub.status.idle": "2022-11-26T18:37:28.672362Z",
     "shell.execute_reply": "2022-11-26T18:37:28.671189Z",
     "shell.execute_reply.started": "2022-11-26T18:37:28.664221Z"
    },
    "executionInfo": {
     "elapsed": 4,
     "status": "ok",
     "timestamp": 1670096978095,
     "user": {
      "displayName": "Enya Tan",
      "userId": "08567705500335156358"
     },
     "user_tz": 360
    },
    "id": "bifyhIOZUdeS",
    "outputId": "afa2856d-210a-449b-fc5e-32907b014c67"
   },
   "outputs": [
    {
     "data": {
      "text/plain": [
       "['startseq commercial no same volume as show!? endseq',\n",
       " 'startseq ted no tell us how you met their mother endseq',\n",
       " 'startseq internet no let me study endseq',\n",
       " 'startseq bad grades no smoke weed and get high? endseq',\n",
       " 'startseq green land no green? endseq',\n",
       " 'startseq users no upvote? endseq',\n",
       " 'startseq support guy no give me ammo endseq',\n",
       " 'startseq said glass of juice! not gas the jews! endseq',\n",
       " 'startseq classmates no return pens borrow you endseq',\n",
       " 'startseq god why no give us extra lives? endseq']"
      ]
     },
     "execution_count": 17,
     "metadata": {},
     "output_type": "execute_result"
    }
   ],
   "source": [
    "all_captions[:10]"
   ]
  },
  {
   "cell_type": "code",
   "execution_count": 18,
   "metadata": {
    "execution": {
     "iopub.execute_input": "2022-11-26T18:37:38.223253Z",
     "iopub.status.busy": "2022-11-26T18:37:38.222900Z",
     "iopub.status.idle": "2022-11-26T18:37:39.168152Z",
     "shell.execute_reply": "2022-11-26T18:37:39.167062Z",
     "shell.execute_reply.started": "2022-11-26T18:37:38.223221Z"
    },
    "executionInfo": {
     "elapsed": 1389,
     "status": "ok",
     "timestamp": 1670096981923,
     "user": {
      "displayName": "Enya Tan",
      "userId": "08567705500335156358"
     },
     "user_tz": 360
    },
    "id": "TQf3CLX7UdeT"
   },
   "outputs": [],
   "source": [
    "# tokenize the text\n",
    "tokenizer = Tokenizer()\n",
    "tokenizer.fit_on_texts(all_captions)\n",
    "vocab_size = len(tokenizer.word_index) + 1"
   ]
  },
  {
   "cell_type": "code",
   "execution_count": 19,
   "metadata": {
    "colab": {
     "base_uri": "https://localhost:8080/"
    },
    "execution": {
     "iopub.execute_input": "2022-11-26T18:37:48.955505Z",
     "iopub.status.busy": "2022-11-26T18:37:48.954503Z",
     "iopub.status.idle": "2022-11-26T18:37:48.961635Z",
     "shell.execute_reply": "2022-11-26T18:37:48.960714Z",
     "shell.execute_reply.started": "2022-11-26T18:37:48.955465Z"
    },
    "executionInfo": {
     "elapsed": 3,
     "status": "ok",
     "timestamp": 1670096985020,
     "user": {
      "displayName": "Enya Tan",
      "userId": "08567705500335156358"
     },
     "user_tz": 360
    },
    "id": "nwBuXSMsUdeT",
    "outputId": "30969e0b-efe1-4d8f-fbea-9084418976b6"
   },
   "outputs": [
    {
     "data": {
      "text/plain": [
       "49940"
      ]
     },
     "execution_count": 19,
     "metadata": {},
     "output_type": "execute_result"
    }
   ],
   "source": [
    "vocab_size"
   ]
  },
  {
   "cell_type": "code",
   "execution_count": 20,
   "metadata": {
    "colab": {
     "base_uri": "https://localhost:8080/"
    },
    "execution": {
     "iopub.execute_input": "2022-11-26T18:38:02.890204Z",
     "iopub.status.busy": "2022-11-26T18:38:02.889851Z",
     "iopub.status.idle": "2022-11-26T18:38:02.929565Z",
     "shell.execute_reply": "2022-11-26T18:38:02.928621Z",
     "shell.execute_reply.started": "2022-11-26T18:38:02.890173Z"
    },
    "executionInfo": {
     "elapsed": 5,
     "status": "ok",
     "timestamp": 1670096986249,
     "user": {
      "displayName": "Enya Tan",
      "userId": "08567705500335156358"
     },
     "user_tz": 360
    },
    "id": "iWc6oDVLUdeT",
    "outputId": "7d5eaa5b-3285-46e5-8a16-789821a20d6a"
   },
   "outputs": [
    {
     "data": {
      "text/plain": [
       "25"
      ]
     },
     "execution_count": 20,
     "metadata": {},
     "output_type": "execute_result"
    }
   ],
   "source": [
    "# get maximum length of the caption available\n",
    "max_length = max(len(caption.split()) for caption in all_captions)\n",
    "max_length"
   ]
  },
  {
   "cell_type": "markdown",
   "metadata": {
    "id": "h0Se6wkcUdeT"
   },
   "source": [
    "# Train Test Split"
   ]
  },
  {
   "cell_type": "code",
   "execution_count": 25,
   "metadata": {
    "execution": {
     "iopub.execute_input": "2022-11-26T18:38:25.095983Z",
     "iopub.status.busy": "2022-11-26T18:38:25.095029Z",
     "iopub.status.idle": "2022-11-26T18:38:25.102684Z",
     "shell.execute_reply": "2022-11-26T18:38:25.101349Z",
     "shell.execute_reply.started": "2022-11-26T18:38:25.095931Z"
    },
    "executionInfo": {
     "elapsed": 260,
     "status": "ok",
     "timestamp": 1670097020242,
     "user": {
      "displayName": "Enya Tan",
      "userId": "08567705500335156358"
     },
     "user_tz": 360
    },
    "id": "9Ky8iiu8UdeT"
   },
   "outputs": [],
   "source": [
    "image_ids = list(mapping.keys())\n",
    "split = int(len(image_ids) * 0.90)\n",
    "train = image_ids[:split]\n",
    "test = image_ids[split:]"
   ]
  },
  {
   "cell_type": "code",
   "execution_count": 26,
   "metadata": {
    "execution": {
     "iopub.execute_input": "2022-11-26T18:38:41.747285Z",
     "iopub.status.busy": "2022-11-26T18:38:41.746888Z",
     "iopub.status.idle": "2022-11-26T18:38:41.752564Z",
     "shell.execute_reply": "2022-11-26T18:38:41.751297Z",
     "shell.execute_reply.started": "2022-11-26T18:38:41.747251Z"
    },
    "executionInfo": {
     "elapsed": 5,
     "status": "ok",
     "timestamp": 1670097020571,
     "user": {
      "displayName": "Enya Tan",
      "userId": "08567705500335156358"
     },
     "user_tz": 360
    },
    "id": "mcZuXF0NUdeU"
   },
   "outputs": [],
   "source": [
    "# startseq girl going into wooden building endseq\n",
    "#        X                   y\n",
    "# startseq                   girl\n",
    "# startseq girl              going\n",
    "# startseq girl going        into\n",
    "# ...........\n",
    "# startseq girl going into wooden building      endseq"
   ]
  },
  {
   "cell_type": "code",
   "execution_count": 27,
   "metadata": {
    "execution": {
     "iopub.execute_input": "2022-11-26T18:38:58.939776Z",
     "iopub.status.busy": "2022-11-26T18:38:58.939348Z",
     "iopub.status.idle": "2022-11-26T18:38:58.949786Z",
     "shell.execute_reply": "2022-11-26T18:38:58.948629Z",
     "shell.execute_reply.started": "2022-11-26T18:38:58.939737Z"
    },
    "executionInfo": {
     "elapsed": 3,
     "status": "ok",
     "timestamp": 1670097020571,
     "user": {
      "displayName": "Enya Tan",
      "userId": "08567705500335156358"
     },
     "user_tz": 360
    },
    "id": "Lmhjz6AzUdeU"
   },
   "outputs": [],
   "source": [
    "# create data generator to get data in batch (avoids session crash)\n",
    "def data_generator(data_keys, mapping, features, tokenizer, max_length, vocab_size, batch_size):\n",
    "    # loop over images\n",
    "    X1, X2, y = list(), list(), list()\n",
    "    n = 0\n",
    "    while 1:\n",
    "        for key in data_keys:\n",
    "            n += 1\n",
    "            captions = mapping[key]\n",
    "            # process each caption\n",
    "            for caption in captions:\n",
    "                # encode the sequence\n",
    "                seq = tokenizer.texts_to_sequences([caption])[0]\n",
    "                # split the sequence into X, y pairs\n",
    "                for i in range(1, len(seq)):\n",
    "                    # split into input and output pairs\n",
    "                    in_seq, out_seq = seq[:i], seq[i]\n",
    "                    # pad input sequence\n",
    "                    in_seq = pad_sequences([in_seq], maxlen=max_length)[0]\n",
    "                    # encode output sequence\n",
    "                    out_seq = to_categorical([out_seq], num_classes=vocab_size)[0]\n",
    "                    \n",
    "                    # store the sequences\n",
    "                    X1.append(features[key][0])\n",
    "                    X2.append(in_seq)\n",
    "                    y.append(out_seq)\n",
    "            if n == batch_size:\n",
    "                X1, X2, y = np.array(X1), np.array(X2), np.array(y)\n",
    "                yield [X1, X2], y\n",
    "                X1, X2, y = list(), list(), list()\n",
    "                n = 0"
   ]
  },
  {
   "cell_type": "markdown",
   "metadata": {
    "id": "49vL6_NdUdeU"
   },
   "source": [
    "# Model Creation"
   ]
  },
  {
   "cell_type": "code",
   "execution_count": null,
   "metadata": {
    "colab": {
     "base_uri": "https://localhost:8080/",
     "height": 754
    },
    "execution": {
     "iopub.execute_input": "2022-11-26T18:39:35.736568Z",
     "iopub.status.busy": "2022-11-26T18:39:35.736180Z",
     "iopub.status.idle": "2022-11-26T18:39:38.085812Z",
     "shell.execute_reply": "2022-11-26T18:39:38.084658Z",
     "shell.execute_reply.started": "2022-11-26T18:39:35.736534Z"
    },
    "executionInfo": {
     "elapsed": 1496,
     "status": "ok",
     "timestamp": 1670046417208,
     "user": {
      "displayName": "Enya Tan",
      "userId": "08567705500335156358"
     },
     "user_tz": 360
    },
    "id": "GE3qg6taUdeU",
    "outputId": "df10e426-c27b-4f9d-84cd-a273177c2512"
   },
   "outputs": [
    {
     "data": {
      "image/png": "[encoded data removed]",
      "text/plain": [
       "<IPython.core.display.Image object>"
      ]
     },
     "execution_count": 24,
     "metadata": {},
     "output_type": "execute_result"
    }
   ],
   "source": [
    "# encoder model\n",
    "# image feature layers\n",
    "inputs1 = Input(shape=(4096,))\n",
    "fe1 = Dropout(0.4)(inputs1)\n",
    "fe2 = Dense(256, activation='relu')(fe1)\n",
    "# sequence feature layers\n",
    "inputs2 = Input(shape=(max_length,))\n",
    "se1 = Embedding(vocab_size, 256, mask_zero=True)(inputs2)\n",
    "se2 = Dropout(0.4)(se1)\n",
    "se3 = LSTM(256)(se2)\n",
    "\n",
    "# decoder model\n",
    "decoder1 = add([fe2, se3])\n",
    "decoder2 = Dense(256, activation='relu')(decoder1)\n",
    "outputs = Dense(vocab_size, activation='softmax')(decoder2)\n",
    "\n",
    "model = Model(inputs=[inputs1, inputs2], outputs=outputs)\n",
    "model.compile(loss='categorical_crossentropy', optimizer='adam')\n",
    "\n",
    "# plot the model\n",
    "plot_model(model, show_shapes=True)"
   ]
  },
  {
   "cell_type": "code",
   "execution_count": null,
   "metadata": {
    "colab": {
     "base_uri": "https://localhost:8080/"
    },
    "execution": {
     "iopub.execute_input": "2022-11-26T18:43:35.027263Z",
     "iopub.status.busy": "2022-11-26T18:43:35.026898Z",
     "iopub.status.idle": "2022-11-26T19:08:27.213352Z",
     "shell.execute_reply": "2022-11-26T19:08:27.212237Z",
     "shell.execute_reply.started": "2022-11-26T18:43:35.027232Z"
    },
    "executionInfo": {
     "elapsed": 1459450,
     "status": "ok",
     "timestamp": 1670047876656,
     "user": {
      "displayName": "Enya Tan",
      "userId": "08567705500335156358"
     },
     "user_tz": 360
    },
    "id": "zmvIt13XUdeU",
    "outputId": "172cb91c-8a57-4884-a992-07a151f5c28d"
   },
   "outputs": [
    {
     "name": "stdout",
     "output_type": "stream",
     "text": [
      "54/54 [==============================] - 111s 2s/step - loss: 7.8207\n",
      "54/54 [==============================] - 107s 2s/step - loss: 7.2039\n",
      "54/54 [==============================] - 108s 2s/step - loss: 6.9694\n",
      "54/54 [==============================] - 107s 2s/step - loss: 6.7679\n",
      "54/54 [==============================] - 108s 2s/step - loss: 6.5738\n",
      "54/54 [==============================] - 108s 2s/step - loss: 6.4200\n",
      "54/54 [==============================] - 108s 2s/step - loss: 6.2726\n",
      "54/54 [==============================] - 107s 2s/step - loss: 6.1344\n",
      "54/54 [==============================] - 108s 2s/step - loss: 5.9812\n",
      "54/54 [==============================] - 107s 2s/step - loss: 5.8285\n",
      "54/54 [==============================] - 141s 3s/step - loss: 5.6813\n",
      "54/54 [==============================] - 172s 3s/step - loss: 5.5865\n"
     ]
    }
   ],
   "source": [
    "# train the model\n",
    "epochs = 12\n",
    "batch_size = 5\n",
    "steps = len(train) // batch_size\n",
    "\n",
    "for i in range(epochs):\n",
    "    # create data generator\n",
    "    generator = data_generator(train, mapping, features, tokenizer, max_length, vocab_size, batch_size)\n",
    "    # fit for one epoch\n",
    "    model.fit(generator, epochs=1, steps_per_epoch=steps, verbose=1)"
   ]
  },
  {
   "cell_type": "code",
   "execution_count": null,
   "metadata": {
    "execution": {
     "iopub.execute_input": "2022-11-26T19:10:24.038885Z",
     "iopub.status.busy": "2022-11-26T19:10:24.038508Z",
     "iopub.status.idle": "2022-11-26T19:10:24.184900Z",
     "shell.execute_reply": "2022-11-26T19:10:24.182704Z",
     "shell.execute_reply.started": "2022-11-26T19:10:24.038854Z"
    },
    "id": "rHme1A6LUdeU"
   },
   "outputs": [],
   "source": [
    "# save the model\n",
    "model.save(WORKING_DIR+'/best_model2.h5')"
   ]
  },
  {
   "cell_type": "markdown",
   "metadata": {
    "id": "P6766Ys3UdeV"
   },
   "source": [
    "# Generate Captions for the Image"
   ]
  },
  {
   "cell_type": "code",
   "execution_count": 21,
   "metadata": {
    "executionInfo": {
     "elapsed": 2678,
     "status": "ok",
     "timestamp": 1670097000552,
     "user": {
      "displayName": "Enya Tan",
      "userId": "08567705500335156358"
     },
     "user_tz": 360
    },
    "id": "xHUKABRU9uEo"
   },
   "outputs": [],
   "source": [
    "import numpy as np\n",
    "from tensorflow import keras\n",
    "\n",
    "model = keras.models.load_model(WORKING_DIR+'/best_model2.h5')"
   ]
  },
  {
   "cell_type": "code",
   "execution_count": 22,
   "metadata": {
    "execution": {
     "iopub.execute_input": "2022-11-26T19:17:13.034581Z",
     "iopub.status.busy": "2022-11-26T19:17:13.034178Z",
     "iopub.status.idle": "2022-11-26T19:17:13.040918Z",
     "shell.execute_reply": "2022-11-26T19:17:13.039725Z",
     "shell.execute_reply.started": "2022-11-26T19:17:13.034540Z"
    },
    "executionInfo": {
     "elapsed": 2,
     "status": "ok",
     "timestamp": 1670097002120,
     "user": {
      "displayName": "Enya Tan",
      "userId": "08567705500335156358"
     },
     "user_tz": 360
    },
    "id": "dSAq5A2lUdeV"
   },
   "outputs": [],
   "source": [
    "def idx_to_word(integer, tokenizer):\n",
    "    for word, index in tokenizer.word_index.items():\n",
    "        if index == integer:\n",
    "            return word\n",
    "    return None"
   ]
  },
  {
   "cell_type": "code",
   "execution_count": 23,
   "metadata": {
    "execution": {
     "iopub.execute_input": "2022-11-26T19:17:37.274837Z",
     "iopub.status.busy": "2022-11-26T19:17:37.274426Z",
     "iopub.status.idle": "2022-11-26T19:17:37.283208Z",
     "shell.execute_reply": "2022-11-26T19:17:37.282242Z",
     "shell.execute_reply.started": "2022-11-26T19:17:37.274803Z"
    },
    "executionInfo": {
     "elapsed": 809,
     "status": "ok",
     "timestamp": 1670097004840,
     "user": {
      "displayName": "Enya Tan",
      "userId": "08567705500335156358"
     },
     "user_tz": 360
    },
    "id": "dET62sRbUdeV"
   },
   "outputs": [],
   "source": [
    "# generate caption for an image\n",
    "def predict_caption(model, image, tokenizer, max_length):\n",
    "    # add start tag for generation process\n",
    "    in_text = 'startseq'\n",
    "    # iterate over the max length of sequence\n",
    "    for i in range(max_length):\n",
    "        # encode input sequence\n",
    "        sequence = tokenizer.texts_to_sequences([in_text])[0]\n",
    "        # pad the sequence\n",
    "        sequence = pad_sequences([sequence], max_length)\n",
    "        # predict next word\n",
    "        yhat = model.predict([image, sequence], verbose=0)\n",
    "        # get index with high probability\n",
    "        yhat = np.argmax(yhat)\n",
    "        # convert index to word\n",
    "        word = idx_to_word(yhat, tokenizer)\n",
    "        # stop if word not found\n",
    "        if word is None:\n",
    "            break\n",
    "        # append word as input for generating next word\n",
    "        in_text += \" \" + word\n",
    "        # stop if we reach end tag\n",
    "        if word == 'endseq':\n",
    "            break\n",
    "      \n",
    "    return in_text"
   ]
  },
  {
   "cell_type": "code",
   "execution_count": 28,
   "metadata": {
    "colab": {
     "base_uri": "https://localhost:8080/",
     "height": 193,
     "referenced_widgets": [
      "4d690700ad874df0950df9621fcb154f",
      "3682c9a15ff9438ba64931d35e5b6f0f",
      "94ce3f2e561a43eea23fa0985a1acd2e",
      "ea3c9bd1e53448d0b401d9c58e1033fc",
      "0eb6356ccaae4713a759683ed9b19e5c",
      "17edb8d83f1f40f4b108cb10073d16b7",
      "46f530d616d14e258c8969f8a5135b9f",
      "6d42fae9b66d4d749324733137f7133c",
      "646e7aa25a614d71a400e72435ef12bd",
      "b4d97e27c17b4acb80b03202175712c3",
      "685cff310c264f988a5c4a7e29495aa9"
     ]
    },
    "execution": {
     "iopub.execute_input": "2022-11-26T19:23:22.824371Z",
     "iopub.status.busy": "2022-11-26T19:23:22.824005Z",
     "iopub.status.idle": "2022-11-26T19:29:59.196524Z",
     "shell.execute_reply": "2022-11-26T19:29:59.195384Z",
     "shell.execute_reply.started": "2022-11-26T19:23:22.824340Z"
    },
    "executionInfo": {
     "elapsed": 22272,
     "status": "ok",
     "timestamp": 1670097049470,
     "user": {
      "displayName": "Enya Tan",
      "userId": "08567705500335156358"
     },
     "user_tz": 360
    },
    "id": "y4BzAHwHUdeV",
    "outputId": "a3cb8c4d-a487-47b5-8e6e-6bb140fb100b"
   },
   "outputs": [
    {
     "data": {
      "application/vnd.jupyter.widget-view+json": {
       "model_id": "4d690700ad874df0950df9621fcb154f",
       "version_major": 2,
       "version_minor": 0
      },
      "text/plain": [
       "  0%|          | 0/30 [00:00<?, ?it/s]"
      ]
     },
     "metadata": {},
     "output_type": "display_data"
    },
    {
     "name": "stdout",
     "output_type": "stream",
     "text": [
      "BLEU-1: 0.305263\n",
      "BLEU-2: 0.192466\n"
     ]
    },
    {
     "name": "stderr",
     "output_type": "stream",
     "text": [
      "/usr/local/lib/python3.8/dist-packages/nltk/translate/bleu_score.py:552: UserWarning: \n",
      "The hypothesis contains 0 counts of 4-gram overlaps.\n",
      "Therefore the BLEU score evaluates to 0, independently of\n",
      "how many N-gram overlaps of lower order it contains.\n",
      "Consider using lower n-gram order or use SmoothingFunction()\n",
      "  warnings.warn(_msg)\n"
     ]
    }
   ],
   "source": [
    "from nltk.translate.bleu_score import corpus_bleu\n",
    "# validate with test data\n",
    "actual, predicted = list(), list()\n",
    "\n",
    "for key in tqdm(test):\n",
    "    # get actual caption\n",
    "    captions = mapping[key]\n",
    "    # predict the caption for image\n",
    "    y_pred = predict_caption(model, features[key], tokenizer, max_length) \n",
    "    # split into words\n",
    "    actual_captions = [caption.split() for caption in captions]\n",
    "    y_pred = y_pred.split()\n",
    "    # append to the list\n",
    "    actual.append(actual_captions)\n",
    "    predicted.append(y_pred)\n",
    "    \n",
    "# calcuate BLEU score\n",
    "print(\"BLEU-1: %f\" % corpus_bleu(actual, predicted, weights=(1.0, 0, 0, 0)))\n",
    "print(\"BLEU-2: %f\" % corpus_bleu(actual, predicted, weights=(0.5, 0.5, 0, 0)))"
   ]
  },
  {
   "cell_type": "code",
   "execution_count": 29,
   "metadata": {
    "execution": {
     "iopub.execute_input": "2022-11-26T19:31:44.929867Z",
     "iopub.status.busy": "2022-11-26T19:31:44.929431Z",
     "iopub.status.idle": "2022-11-26T19:31:44.941941Z",
     "shell.execute_reply": "2022-11-26T19:31:44.940671Z",
     "shell.execute_reply.started": "2022-11-26T19:31:44.929832Z"
    },
    "executionInfo": {
     "elapsed": 728,
     "status": "ok",
     "timestamp": 1670097052580,
     "user": {
      "displayName": "Enya Tan",
      "userId": "08567705500335156358"
     },
     "user_tz": 360
    },
    "id": "5sVorpkdUdeV"
   },
   "outputs": [],
   "source": [
    "from PIL import Image\n",
    "import matplotlib.pyplot as plt\n",
    "def generate_caption(image_name):\n",
    "    # load the image\n",
    "    # image_name = \"1001773457_577c3a7d70.jpg\"\n",
    "    image_id = image_name.split('.')[0]\n",
    "    img_path = os.path.join(BASE_DIR, \"Images\", image_name)\n",
    "    image = Image.open(img_path)\n",
    "    captions = mapping[image_id]\n",
    "    print('---------------------Actual---------------------')\n",
    "    for caption in captions:\n",
    "        print(caption)\n",
    "    # predict the caption\n",
    "    y_pred = predict_caption(model, features[image_id], tokenizer, max_length)\n",
    "    print('--------------------Predicted--------------------')\n",
    "    print(y_pred)\n",
    "    plt.imshow(image)"
   ]
  },
  {
   "cell_type": "markdown",
   "metadata": {
    "id": "RWjn-iu1rrjF"
   },
   "source": [
    "# Generate Meme for New Image"
   ]
  },
  {
   "cell_type": "code",
   "execution_count": 30,
   "metadata": {
    "executionInfo": {
     "elapsed": 253,
     "status": "ok",
     "timestamp": 1670097055302,
     "user": {
      "displayName": "Enya Tan",
      "userId": "08567705500335156358"
     },
     "user_tz": 360
    },
    "id": "L86rxlKi8OBA"
   },
   "outputs": [],
   "source": [
    "import re\n",
    "from copy import deepcopy\n",
    "\n",
    "PUNCT_PATTERN = re.compile(r\"( )([!#$%&\\()*+,\\-.\\/:;<=>?@\\\\^{|}~]+)\")\n",
    "SPECIAL_TOKENS = {\n",
    "    'PAD': '<pad>',\n",
    "    'UNK': '<unk>',\n",
    "    'BOS': '<bos>',\n",
    "    'EOS': '<eos>',\n",
    "    'SEP': '<sep>',\n",
    "    'EMPTY': '<emp>',\n",
    "}\n",
    "\n",
    "def split_caption(text, num_blocks=None):\n",
    "    \"\"\"Splits text caption into blocks according to the special tokens.\n",
    "\n",
    "    Args:\n",
    "        text (str): input caption text\n",
    "        num_blocks (int): number of blocks to return (`None` for keeping all)\n",
    "\n",
    "    Returns:\n",
    "        List[str]: a list of text blocks\n",
    "    \"\"\"\n",
    "\n",
    "    def _clean_text_block(text_block):\n",
    "        text_block = re.sub(r'<\\w+>', '', text_block)\n",
    "        text_block = re.sub(r'^\\s+', '', text_block)\n",
    "        text_block = re.sub(r'\\s+$', '', text_block)\n",
    "        text_block = PUNCT_PATTERN.sub('\\\\2', text_block)\n",
    "        return text_block\n",
    "\n",
    "    text_blocks = text.split(SPECIAL_TOKENS['SEP'])\n",
    "\n",
    "    # clean blocks from any special tokens and padding spaces\n",
    "    text_blocks = [_clean_text_block(t) for t in text_blocks]\n",
    "\n",
    "    if num_blocks is None:\n",
    "        num_blocks = len(text_blocks)\n",
    "    elif len(text_blocks) < num_blocks:\n",
    "        text_blocks += [''] * (num_blocks - len(text_blocks))\n",
    "\n",
    "    return text_blocks[:num_blocks]"
   ]
  },
  {
   "cell_type": "code",
   "execution_count": 31,
   "metadata": {
    "executionInfo": {
     "elapsed": 260,
     "status": "ok",
     "timestamp": 1670097058443,
     "user": {
      "displayName": "Enya Tan",
      "userId": "08567705500335156358"
     },
     "user_tz": 360
    },
    "id": "MbnGYIQf835l"
   },
   "outputs": [],
   "source": [
    "MEME_FONT_PATH = WORKING_DIR+'/impact.ttf'\n",
    "\n",
    "from PIL import ImageFont, ImageDraw\n",
    "\n",
    "def get_maximal_font(img, text, font_size=64, text_width=0.94, font_path=MEME_FONT_PATH):\n",
    "    \"\"\"Computes the font of maximal size that fits the text.\n",
    "\n",
    "    Args:\n",
    "        img (PIL.Image): input image\n",
    "        text (str): text to fit into image\n",
    "        font_size (int): initial font size\n",
    "        text_width (float): text width ratio with respect to image width\n",
    "        font_path (str): path to font\n",
    "\n",
    "    Returns:\n",
    "        PIL.ImageFont: optimal font\n",
    "    \"\"\"\n",
    "    font = ImageFont.truetype(font_path, font_size)\n",
    "    w, h = font.getsize(text)\n",
    "\n",
    "    # find the biggest font size that works\n",
    "    while w > img.width * text_width:\n",
    "        font_size = font_size - 1\n",
    "        font = ImageFont.truetype(font_path, font_size)\n",
    "        w, h = font.getsize(text)\n",
    "\n",
    "    return font\n",
    "\n",
    "def _get_initial_font(img, texts, max_chars=20, font_path=MEME_FONT_PATH):\n",
    "    \"\"\"Compute initial font of maximal size based of texts.\n",
    "\n",
    "    Args:\n",
    "        img (PIL.Image): input image\n",
    "        texts (List[str]): list of texts\n",
    "        max_chars (int): maximum number of characters in a line\n",
    "        font_path (str): path to font\n",
    "\n",
    "    Returns:\n",
    "        PIL.ImageFont: optimal font\n",
    "    \"\"\"\n",
    "    # compute the maximum number of characters in a line\n",
    "    max_len = max(map(len, texts))\n",
    "    max_len = max_len if max_len < max_chars else max_chars\n",
    "    longest_text = 'G' * max_len\n",
    "\n",
    "    # get initial font size from image dimensions\n",
    "    font_size = int(img.height / 5.4)\n",
    "\n",
    "    # get maximal font for the initial text\n",
    "    font = get_maximal_font(img, longest_text, font_size, font_path=font_path)\n",
    "\n",
    "    return font\n",
    "\n",
    "def _get_final_font(img, text_lines, font_path=MEME_FONT_PATH):\n",
    "    \"\"\"Compute final font of maximal size based of texts split into lines.\n",
    "\n",
    "    Args:\n",
    "        img (PIL.Image): input image\n",
    "        text_lines (List[List[str]]): list of list of text lines\n",
    "        font_path (str): path to font\n",
    "\n",
    "    Returns:\n",
    "        PIL.ImageFont: optimal font\n",
    "    \"\"\"\n",
    "    # initial font size\n",
    "    font_size = int(img.height / 5.4) // max(map(len, text_lines))\n",
    "    font = ImageFont.truetype(font_path, font_size)\n",
    "\n",
    "    # find the text with the highest occupied width\n",
    "    text_lines = [text for lines in text_lines for text in lines]\n",
    "    lengths = list(map(lambda x: font.getsize(x)[0], text_lines))\n",
    "    longest_text = text_lines[np.argmax(lengths)]\n",
    "\n",
    "    # get maximal font for the text with highest width\n",
    "    font = get_maximal_font(img, longest_text, font_size, font_path=font_path)\n",
    "\n",
    "    return font\n",
    "\n",
    "def split_to_lines(img, text, font):\n",
    "    \"\"\"Splits text into lines to fit the image with a given font.\n",
    "\n",
    "    Args:\n",
    "        img (PIL.Image): input image\n",
    "        text (str): input text\n",
    "        font (PIL.ImageFont): text font\n",
    "\n",
    "    Returns:\n",
    "        List[str]: list of text lines\n",
    "    \"\"\"\n",
    "    draw = ImageDraw.Draw(img)\n",
    "    text = text.replace('\u0002', '').upper()\n",
    "    w, h = draw.textsize(text, font)  # measure the size the text will take\n",
    "\n",
    "    # compute the number of lines\n",
    "    line_count = 1\n",
    "    if w > img.width:\n",
    "        line_count = w // img.width + 1\n",
    "\n",
    "    lines = []\n",
    "    if line_count > 1:\n",
    "        # cut text into lines preserving words\n",
    "\n",
    "        last_cut = 0\n",
    "        is_last = False\n",
    "\n",
    "        for i in range(0, line_count):\n",
    "            cut = (len(text) // line_count) * i if last_cut == 0 else last_cut\n",
    "\n",
    "            if i < line_count - 1:\n",
    "                next_cut = (len(text) // line_count) * (i + 1)\n",
    "            else:\n",
    "                next_cut = len(text)\n",
    "                is_last = True\n",
    "\n",
    "            # make sure we don't cut words in half\n",
    "            if not (next_cut == len(text) or text[next_cut] == \" \"):\n",
    "                while text[next_cut] != \" \":\n",
    "                    next_cut += 1\n",
    "\n",
    "            line = text[cut:next_cut].strip()\n",
    "\n",
    "            # does line still fit?\n",
    "            w, h = draw.textsize(line, font)\n",
    "            if not is_last and w > img.width * 0.95:\n",
    "                next_cut -= 1\n",
    "                while text[next_cut] != \" \":\n",
    "                    next_cut -= 1\n",
    "\n",
    "            last_cut = next_cut\n",
    "            lines.append(text[cut:next_cut].strip())\n",
    "    else:\n",
    "        lines.append(text)\n",
    "\n",
    "    return lines\n",
    "\n",
    "def caption_image(img, text_lines, font, pos='top'):\n",
    "    \"\"\"Captions the image with text.\n",
    "\n",
    "    Args:\n",
    "        img (PIL.Image): input image\n",
    "        text_lines (List[str]): list of text lines\n",
    "        font (PIL.ImageFont): text font\n",
    "        pos (str): position of text (`top` or `bottom`)\n",
    "\n",
    "    Returns:\n",
    "        PIL.Image: captioned image\n",
    "    \"\"\"\n",
    "    draw = ImageDraw.Draw(img)\n",
    "    w, h = draw.textsize(text_lines[0], font)  # measure the size the text will take\n",
    "\n",
    "    # text border size\n",
    "    border_size = font.size // 18\n",
    "\n",
    "    # compute the position of text on y-axis\n",
    "    last_y = -h\n",
    "    if pos == 'bottom':\n",
    "        last_y = img.height * 0.987 - h * (len(text_lines) + 1) - border_size\n",
    "\n",
    "    # draw text lines\n",
    "    for line in text_lines:\n",
    "        w, h = draw.textsize(line, font)\n",
    "        x = img.width / 2 - w / 2\n",
    "        y = last_y + h\n",
    "\n",
    "        # add borders of black color\n",
    "        for xx in range(-border_size, border_size + 1):\n",
    "            for yy in range(-border_size, border_size + 1):\n",
    "                draw.text((x + xx, y + yy), line, (0, 0, 0), font=font)\n",
    "\n",
    "        # add text in white\n",
    "        draw.text((x, y), line, (255, 255, 255), font=font)\n",
    "\n",
    "        last_y = y\n",
    "\n",
    "    return img\n",
    "\n",
    "def memeify_image(img, top='', bottom='', font_path=MEME_FONT_PATH):\n",
    "    \"\"\"Adds top and bottom captions to an image.\n",
    "\n",
    "    Args:\n",
    "        img (PIL.Image): input image\n",
    "        top (str): top caption text\n",
    "        bottom (str): top caption text\n",
    "        font_path (str): path to font\n",
    "\n",
    "    Returns:\n",
    "        PIL.Image: captioned image\n",
    "    \"\"\"\n",
    "    # do not change existing image\n",
    "    img = deepcopy(img)\n",
    "\n",
    "    # initial font\n",
    "    font = _get_initial_font(img, texts=[top, bottom], font_path=font_path)\n",
    "\n",
    "    # split texts into lines\n",
    "    top_lines = split_to_lines(img, top, font)\n",
    "    bottom_lines = split_to_lines(img, bottom, font)\n",
    "\n",
    "    # adjust the font\n",
    "    font = _get_final_font(img, [top_lines, bottom_lines], font_path=font_path)\n",
    "\n",
    "    # caption image with both texts\n",
    "    img = caption_image(img, top_lines, font, 'top')\n",
    "    img = caption_image(img, bottom_lines, font, 'bottom')\n",
    "\n",
    "    return img"
   ]
  },
  {
   "cell_type": "code",
   "execution_count": 32,
   "metadata": {
    "executionInfo": {
     "elapsed": 1914,
     "status": "ok",
     "timestamp": 1670097066528,
     "user": {
      "displayName": "Enya Tan",
      "userId": "08567705500335156358"
     },
     "user_tz": 360
    },
    "id": "ixOnTGqV4y4n"
   },
   "outputs": [],
   "source": [
    "# load vgg16 model\n",
    "VGGmodel = VGG16()\n",
    "# restructure the model\n",
    "VGGmodel = Model(inputs=VGGmodel.inputs, outputs=VGGmodel.layers[-2].output)"
   ]
  },
  {
   "cell_type": "code",
   "execution_count": 33,
   "metadata": {
    "executionInfo": {
     "elapsed": 748,
     "status": "ok",
     "timestamp": 1670097069474,
     "user": {
      "displayName": "Enya Tan",
      "userId": "08567705500335156358"
     },
     "user_tz": 360
    },
    "id": "GyEwkP0zqiqL"
   },
   "outputs": [],
   "source": [
    "def generate_caption_new(image_name):\n",
    "    new_features = {}\n",
    "    img_path = \"gdrive/My Drive/lstm/test_image/\"+ image_name\n",
    "    image = load_img(img_path, target_size=(224, 224))\n",
    "\n",
    "    img = Image.open(img_path)\n",
    "\n",
    "    # convert image pixels to numpy array\n",
    "    image = img_to_array(image)\n",
    "    # reshape data for model\n",
    "    image = image.reshape((1, image.shape[0], image.shape[1], image.shape[2]))\n",
    "    # preprocess image for vgg\n",
    "    image = preprocess_input(image)\n",
    "    # extract features\n",
    "    feature = VGGmodel.predict(image, verbose=0)\n",
    "    # get image ID\n",
    "    image_id = image_name.split('.')[0]\n",
    "    # store feature\n",
    "    new_features[image_id] = feature\n",
    "\n",
    "    # store features in pickle\n",
    "    pickle.dump(new_features, open(os.path.join(WORKING_DIR, 'new_features.pkl'), 'wb'))\n",
    "    # load features from pickle\n",
    "    with open(os.path.join(WORKING_DIR, 'new_features.pkl'), 'rb') as f:\n",
    "      new_features = pickle.load(f)\n",
    "\n",
    "    y_pred = predict_caption(model, new_features[image_id], tokenizer, max_length)\n",
    "    y_pred = y_pred.replace(\"startseq\",\"\")\n",
    "    y_pred = y_pred.replace(\"endseq\",\"\")\n",
    "    test = y_pred.split()\n",
    "    test = list(set(test))\n",
    "    y_pred = \" \".join(test)\n",
    "\n",
    "    top = ''\n",
    "    bottom = y_pred\n",
    "\n",
    "    plt.imshow(memeify_image(img, top, bottom))"
   ]
  },
  {
   "cell_type": "code",
   "execution_count": 34,
   "metadata": {
    "colab": {
     "base_uri": "https://localhost:8080/",
     "height": 240
    },
    "executionInfo": {
     "elapsed": 1851,
     "status": "ok",
     "timestamp": 1670097073667,
     "user": {
      "displayName": "Enya Tan",
      "userId": "08567705500335156358"
     },
     "user_tz": 360
    },
    "id": "1s1FJ6Drr5TZ",
    "outputId": "540c86ee-9c8a-4622-a9b0-6e1ac13dc614"
   },
   "outputs": [
    {
     "data": {
      "image/png": "[encoded data removed]",
      "text/plain": [
       "<Figure size 432x288 with 1 Axes>"
      ]
     },
     "metadata": {
      "needs_background": "light"
     },
     "output_type": "display_data"
    }
   ],
   "source": [
    "generate_caption_new(\"tomcat.jpg\")"
   ]
  },
  {
   "cell_type": "code",
   "execution_count": 35,
   "metadata": {
    "colab": {
     "base_uri": "https://localhost:8080/",
     "height": 269
    },
    "executionInfo": {
     "elapsed": 1328,
     "status": "ok",
     "timestamp": 1670097078205,
     "user": {
      "displayName": "Enya Tan",
      "userId": "08567705500335156358"
     },
     "user_tz": 360
    },
    "id": "z4Zk5em2LtzL",
    "outputId": "f26851a4-739d-4153-94c8-8564b64f1bcc"
   },
   "outputs": [
    {
     "data": {
      "image/png": "[encoded data removed]",
      "text/plain": [
       "<Figure size 432x288 with 1 Axes>"
      ]
     },
     "metadata": {
      "needs_background": "light"
     },
     "output_type": "display_data"
    }
   ],
   "source": [
    "generate_caption_new(\"dogeee.jpg\")"
   ]
  },
  {
   "cell_type": "code",
   "execution_count": 36,
   "metadata": {
    "colab": {
     "base_uri": "https://localhost:8080/",
     "height": 269
    },
    "executionInfo": {
     "elapsed": 1085,
     "status": "ok",
     "timestamp": 1670097081212,
     "user": {
      "displayName": "Enya Tan",
      "userId": "08567705500335156358"
     },
     "user_tz": 360
    },
    "id": "j9GwSNFJOEVy",
    "outputId": "6ed7fd0a-ccc2-4174-d7f6-818916c5d8e7"
   },
   "outputs": [
    {
     "data": {
      "image/png": "[encoded data removed]",
      "text/plain": [
       "<Figure size 432x288 with 1 Axes>"
      ]
     },
     "metadata": {
      "needs_background": "light"
     },
     "output_type": "display_data"
    }
   ],
   "source": [
    "generate_caption_new(\"y-u-so.jpg\")"
   ]
  },
  {
   "cell_type": "code",
   "execution_count": null,
   "metadata": {
    "id": "_Xloc85ODfU5"
   },
   "outputs": [],
   "source": [
    "generate_caption_new(\"futurama-fry.jpg\")"
   ]
  }
 ],
 "metadata": {
  "accelerator": "GPU",
  "colab": {
   "collapsed_sections": [
    "h0Se6wkcUdeT"
   ],
   "machine_shape": "hm",
   "provenance": []
  },
  "gpuClass": "premium",
  "kernelspec": {
   "display_name": "Python 3",
   "language": "python",
   "name": "python3"
  },
  "language_info": {
   "codemirror_mode": {
    "name": "ipython",
    "version": 3
   },
   "file_extension": ".py",
   "mimetype": "text/x-python",
   "name": "python",
   "nbconvert_exporter": "python",
   "pygments_lexer": "ipython3",
   "version": "3.8.8"
  },
  "widgets": {
   "application/vnd.jupyter.widget-state+json": {
    "0eb6356ccaae4713a759683ed9b19e5c": {
     "model_module": "@jupyter-widgets/base",
     "model_module_version": "1.2.0",
     "model_name": "LayoutModel",
     "state": {
      "_model_module": "@jupyter-widgets/base",
      "_model_module_version": "1.2.0",
      "_model_name": "LayoutModel",
      "_view_count": null,
      "_view_module": "@jupyter-widgets/base",
      "_view_module_version": "1.2.0",
      "_view_name": "LayoutView",
      "align_content": null,
      "align_items": null,
      "align_self": null,
      "border": null,
      "bottom": null,
      "display": null,
      "flex": null,
      "flex_flow": null,
      "grid_area": null,
      "grid_auto_columns": null,
      "grid_auto_flow": null,
      "grid_auto_rows": null,
      "grid_column": null,
      "grid_gap": null,
      "grid_row": null,
      "grid_template_areas": null,
      "grid_template_columns": null,
      "grid_template_rows": null,
      "height": null,
      "justify_content": null,
      "justify_items": null,
      "left": null,
      "margin": null,
      "max_height": null,
      "max_width": null,
      "min_height": null,
      "min_width": null,
      "object_fit": null,
      "object_position": null,
      "order": null,
      "overflow": null,
      "overflow_x": null,
      "overflow_y": null,
      "padding": null,
      "right": null,
      "top": null,
      "visibility": null,
      "width": null
     }
    },
    "17edb8d83f1f40f4b108cb10073d16b7": {
     "model_module": "@jupyter-widgets/base",
     "model_module_version": "1.2.0",
     "model_name": "LayoutModel",
     "state": {
      "_model_module": "@jupyter-widgets/base",
      "_model_module_version": "1.2.0",
      "_model_name": "LayoutModel",
      "_view_count": null,
      "_view_module": "@jupyter-widgets/base",
      "_view_module_version": "1.2.0",
      "_view_name": "LayoutView",
      "align_content": null,
      "align_items": null,
      "align_self": null,
      "border": null,
      "bottom": null,
      "display": null,
      "flex": null,
      "flex_flow": null,
      "grid_area": null,
      "grid_auto_columns": null,
      "grid_auto_flow": null,
      "grid_auto_rows": null,
      "grid_column": null,
      "grid_gap": null,
      "grid_row": null,
      "grid_template_areas": null,
      "grid_template_columns": null,
      "grid_template_rows": null,
      "height": null,
      "justify_content": null,
      "justify_items": null,
      "left": null,
      "margin": null,
      "max_height": null,
      "max_width": null,
      "min_height": null,
      "min_width": null,
      "object_fit": null,
      "object_position": null,
      "order": null,
      "overflow": null,
      "overflow_x": null,
      "overflow_y": null,
      "padding": null,
      "right": null,
      "top": null,
      "visibility": null,
      "width": null
     }
    },
    "24d3dc2d925d45b7b526e987f4de9b94": {
     "model_module": "@jupyter-widgets/controls",
     "model_module_version": "1.5.0",
     "model_name": "DescriptionStyleModel",
     "state": {
      "_model_module": "@jupyter-widgets/controls",
      "_model_module_version": "1.5.0",
      "_model_name": "DescriptionStyleModel",
      "_view_count": null,
      "_view_module": "@jupyter-widgets/base",
      "_view_module_version": "1.2.0",
      "_view_name": "StyleView",
      "description_width": ""
     }
    },
    "310ad1d4f21d43539052bc841a5c5e7d": {
     "model_module": "@jupyter-widgets/controls",
     "model_module_version": "1.5.0",
     "model_name": "HTMLModel",
     "state": {
      "_dom_classes": [],
      "_model_module": "@jupyter-widgets/controls",
      "_model_module_version": "1.5.0",
      "_model_name": "HTMLModel",
      "_view_count": null,
      "_view_module": "@jupyter-widgets/controls",
      "_view_module_version": "1.5.0",
      "_view_name": "HTMLView",
      "description": "",
      "description_tooltip": null,
      "layout": "IPY_MODEL_c638b80c243343909a8cc1309fd72c2c",
      "placeholder": "​",
      "style": "IPY_MODEL_aae33921b1d54af2bdbfa9176d7ce74b",
      "value": "100%"
     }
    },
    "3682c9a15ff9438ba64931d35e5b6f0f": {
     "model_module": "@jupyter-widgets/controls",
     "model_module_version": "1.5.0",
     "model_name": "HTMLModel",
     "state": {
      "_dom_classes": [],
      "_model_module": "@jupyter-widgets/controls",
      "_model_module_version": "1.5.0",
      "_model_name": "HTMLModel",
      "_view_count": null,
      "_view_module": "@jupyter-widgets/controls",
      "_view_module_version": "1.5.0",
      "_view_name": "HTMLView",
      "description": "",
      "description_tooltip": null,
      "layout": "IPY_MODEL_17edb8d83f1f40f4b108cb10073d16b7",
      "placeholder": "​",
      "style": "IPY_MODEL_46f530d616d14e258c8969f8a5135b9f",
      "value": "100%"
     }
    },
    "371a9c0e58c54f1aa779a7a87ff45765": {
     "model_module": "@jupyter-widgets/base",
     "model_module_version": "1.2.0",
     "model_name": "LayoutModel",
     "state": {
      "_model_module": "@jupyter-widgets/base",
      "_model_module_version": "1.2.0",
      "_model_name": "LayoutModel",
      "_view_count": null,
      "_view_module": "@jupyter-widgets/base",
      "_view_module_version": "1.2.0",
      "_view_name": "LayoutView",
      "align_content": null,
      "align_items": null,
      "align_self": null,
      "border": null,
      "bottom": null,
      "display": null,
      "flex": null,
      "flex_flow": null,
      "grid_area": null,
      "grid_auto_columns": null,
      "grid_auto_flow": null,
      "grid_auto_rows": null,
      "grid_column": null,
      "grid_gap": null,
      "grid_row": null,
      "grid_template_areas": null,
      "grid_template_columns": null,
      "grid_template_rows": null,
      "height": null,
      "justify_content": null,
      "justify_items": null,
      "left": null,
      "margin": null,
      "max_height": null,
      "max_width": null,
      "min_height": null,
      "min_width": null,
      "object_fit": null,
      "object_position": null,
      "order": null,
      "overflow": null,
      "overflow_x": null,
      "overflow_y": null,
      "padding": null,
      "right": null,
      "top": null,
      "visibility": null,
      "width": null
     }
    },
    "37a883397db844de90a6a746ea60b18d": {
     "model_module": "@jupyter-widgets/controls",
     "model_module_version": "1.5.0",
     "model_name": "HTMLModel",
     "state": {
      "_dom_classes": [],
      "_model_module": "@jupyter-widgets/controls",
      "_model_module_version": "1.5.0",
      "_model_name": "HTMLModel",
      "_view_count": null,
      "_view_module": "@jupyter-widgets/controls",
      "_view_module_version": "1.5.0",
      "_view_name": "HTMLView",
      "description": "",
      "description_tooltip": null,
      "layout": "IPY_MODEL_c11e05f05d8f4a8186ca43545de5b23e",
      "placeholder": "​",
      "style": "IPY_MODEL_db6dc5de911545e08212f4ff5b56ae73",
      "value": "100%"
     }
    },
    "46f530d616d14e258c8969f8a5135b9f": {
     "model_module": "@jupyter-widgets/controls",
     "model_module_version": "1.5.0",
     "model_name": "DescriptionStyleModel",
     "state": {
      "_model_module": "@jupyter-widgets/controls",
      "_model_module_version": "1.5.0",
      "_model_name": "DescriptionStyleModel",
      "_view_count": null,
      "_view_module": "@jupyter-widgets/base",
      "_view_module_version": "1.2.0",
      "_view_name": "StyleView",
      "description_width": ""
     }
    },
    "4d690700ad874df0950df9621fcb154f": {
     "model_module": "@jupyter-widgets/controls",
     "model_module_version": "1.5.0",
     "model_name": "HBoxModel",
     "state": {
      "_dom_classes": [],
      "_model_module": "@jupyter-widgets/controls",
      "_model_module_version": "1.5.0",
      "_model_name": "HBoxModel",
      "_view_count": null,
      "_view_module": "@jupyter-widgets/controls",
      "_view_module_version": "1.5.0",
      "_view_name": "HBoxView",
      "box_style": "",
      "children": [
       "IPY_MODEL_3682c9a15ff9438ba64931d35e5b6f0f",
       "IPY_MODEL_94ce3f2e561a43eea23fa0985a1acd2e",
       "IPY_MODEL_ea3c9bd1e53448d0b401d9c58e1033fc"
      ],
      "layout": "IPY_MODEL_0eb6356ccaae4713a759683ed9b19e5c"
     }
    },
    "5aa457b1f66c463ab1939c0b829221e6": {
     "model_module": "@jupyter-widgets/controls",
     "model_module_version": "1.5.0",
     "model_name": "HTMLModel",
     "state": {
      "_dom_classes": [],
      "_model_module": "@jupyter-widgets/controls",
      "_model_module_version": "1.5.0",
      "_model_name": "HTMLModel",
      "_view_count": null,
      "_view_module": "@jupyter-widgets/controls",
      "_view_module_version": "1.5.0",
      "_view_name": "HTMLView",
      "description": "",
      "description_tooltip": null,
      "layout": "IPY_MODEL_b2f6c29151b24fe494f1fec5a7356547",
      "placeholder": "​",
      "style": "IPY_MODEL_24d3dc2d925d45b7b526e987f4de9b94",
      "value": " 74990/74990 [00:00&lt;00:00, 476426.84it/s]"
     }
    },
    "646e7aa25a614d71a400e72435ef12bd": {
     "model_module": "@jupyter-widgets/controls",
     "model_module_version": "1.5.0",
     "model_name": "ProgressStyleModel",
     "state": {
      "_model_module": "@jupyter-widgets/controls",
      "_model_module_version": "1.5.0",
      "_model_name": "ProgressStyleModel",
      "_view_count": null,
      "_view_module": "@jupyter-widgets/base",
      "_view_module_version": "1.2.0",
      "_view_name": "StyleView",
      "bar_color": null,
      "description_width": ""
     }
    },
    "66fc9d68adf7418d8f943e0f41bc0433": {
     "model_module": "@jupyter-widgets/controls",
     "model_module_version": "1.5.0",
     "model_name": "ProgressStyleModel",
     "state": {
      "_model_module": "@jupyter-widgets/controls",
      "_model_module_version": "1.5.0",
      "_model_name": "ProgressStyleModel",
      "_view_count": null,
      "_view_module": "@jupyter-widgets/base",
      "_view_module_version": "1.2.0",
      "_view_name": "StyleView",
      "bar_color": null,
      "description_width": ""
     }
    },
    "685cff310c264f988a5c4a7e29495aa9": {
     "model_module": "@jupyter-widgets/controls",
     "model_module_version": "1.5.0",
     "model_name": "DescriptionStyleModel",
     "state": {
      "_model_module": "@jupyter-widgets/controls",
      "_model_module_version": "1.5.0",
      "_model_name": "DescriptionStyleModel",
      "_view_count": null,
      "_view_module": "@jupyter-widgets/base",
      "_view_module_version": "1.2.0",
      "_view_name": "StyleView",
      "description_width": ""
     }
    },
    "6abd25b0ce494fbdb4e0d94d9efe999e": {
     "model_module": "@jupyter-widgets/controls",
     "model_module_version": "1.5.0",
     "model_name": "FloatProgressModel",
     "state": {
      "_dom_classes": [],
      "_model_module": "@jupyter-widgets/controls",
      "_model_module_version": "1.5.0",
      "_model_name": "FloatProgressModel",
      "_view_count": null,
      "_view_module": "@jupyter-widgets/controls",
      "_view_module_version": "1.5.0",
      "_view_name": "ProgressView",
      "bar_style": "success",
      "description": "",
      "description_tooltip": null,
      "layout": "IPY_MODEL_794e2f1dc90a4f8488fa84930fa92085",
      "max": 300,
      "min": 0,
      "orientation": "horizontal",
      "style": "IPY_MODEL_88375b1b066447268ed8d981ed4c95d0",
      "value": 300
     }
    },
    "6d42fae9b66d4d749324733137f7133c": {
     "model_module": "@jupyter-widgets/base",
     "model_module_version": "1.2.0",
     "model_name": "LayoutModel",
     "state": {
      "_model_module": "@jupyter-widgets/base",
      "_model_module_version": "1.2.0",
      "_model_name": "LayoutModel",
      "_view_count": null,
      "_view_module": "@jupyter-widgets/base",
      "_view_module_version": "1.2.0",
      "_view_name": "LayoutView",
      "align_content": null,
      "align_items": null,
      "align_self": null,
      "border": null,
      "bottom": null,
      "display": null,
      "flex": null,
      "flex_flow": null,
      "grid_area": null,
      "grid_auto_columns": null,
      "grid_auto_flow": null,
      "grid_auto_rows": null,
      "grid_column": null,
      "grid_gap": null,
      "grid_row": null,
      "grid_template_areas": null,
      "grid_template_columns": null,
      "grid_template_rows": null,
      "height": null,
      "justify_content": null,
      "justify_items": null,
      "left": null,
      "margin": null,
      "max_height": null,
      "max_width": null,
      "min_height": null,
      "min_width": null,
      "object_fit": null,
      "object_position": null,
      "order": null,
      "overflow": null,
      "overflow_x": null,
      "overflow_y": null,
      "padding": null,
      "right": null,
      "top": null,
      "visibility": null,
      "width": null
     }
    },
    "794e2f1dc90a4f8488fa84930fa92085": {
     "model_module": "@jupyter-widgets/base",
     "model_module_version": "1.2.0",
     "model_name": "LayoutModel",
     "state": {
      "_model_module": "@jupyter-widgets/base",
      "_model_module_version": "1.2.0",
      "_model_name": "LayoutModel",
      "_view_count": null,
      "_view_module": "@jupyter-widgets/base",
      "_view_module_version": "1.2.0",
      "_view_name": "LayoutView",
      "align_content": null,
      "align_items": null,
      "align_self": null,
      "border": null,
      "bottom": null,
      "display": null,
      "flex": null,
      "flex_flow": null,
      "grid_area": null,
      "grid_auto_columns": null,
      "grid_auto_flow": null,
      "grid_auto_rows": null,
      "grid_column": null,
      "grid_gap": null,
      "grid_row": null,
      "grid_template_areas": null,
      "grid_template_columns": null,
      "grid_template_rows": null,
      "height": null,
      "justify_content": null,
      "justify_items": null,
      "left": null,
      "margin": null,
      "max_height": null,
      "max_width": null,
      "min_height": null,
      "min_width": null,
      "object_fit": null,
      "object_position": null,
      "order": null,
      "overflow": null,
      "overflow_x": null,
      "overflow_y": null,
      "padding": null,
      "right": null,
      "top": null,
      "visibility": null,
      "width": null
     }
    },
    "88375b1b066447268ed8d981ed4c95d0": {
     "model_module": "@jupyter-widgets/controls",
     "model_module_version": "1.5.0",
     "model_name": "ProgressStyleModel",
     "state": {
      "_model_module": "@jupyter-widgets/controls",
      "_model_module_version": "1.5.0",
      "_model_name": "ProgressStyleModel",
      "_view_count": null,
      "_view_module": "@jupyter-widgets/base",
      "_view_module_version": "1.2.0",
      "_view_name": "StyleView",
      "bar_color": null,
      "description_width": ""
     }
    },
    "8865a3177f254c04be0c119a9a1ec900": {
     "model_module": "@jupyter-widgets/controls",
     "model_module_version": "1.5.0",
     "model_name": "DescriptionStyleModel",
     "state": {
      "_model_module": "@jupyter-widgets/controls",
      "_model_module_version": "1.5.0",
      "_model_name": "DescriptionStyleModel",
      "_view_count": null,
      "_view_module": "@jupyter-widgets/base",
      "_view_module_version": "1.2.0",
      "_view_name": "StyleView",
      "description_width": ""
     }
    },
    "90974de944084203a4a900049ea227e0": {
     "model_module": "@jupyter-widgets/controls",
     "model_module_version": "1.5.0",
     "model_name": "HBoxModel",
     "state": {
      "_dom_classes": [],
      "_model_module": "@jupyter-widgets/controls",
      "_model_module_version": "1.5.0",
      "_model_name": "HBoxModel",
      "_view_count": null,
      "_view_module": "@jupyter-widgets/controls",
      "_view_module_version": "1.5.0",
      "_view_name": "HBoxView",
      "box_style": "",
      "children": [
       "IPY_MODEL_37a883397db844de90a6a746ea60b18d",
       "IPY_MODEL_d6d7cf8f07894f76bb91a3578ab1bcef",
       "IPY_MODEL_5aa457b1f66c463ab1939c0b829221e6"
      ],
      "layout": "IPY_MODEL_371a9c0e58c54f1aa779a7a87ff45765"
     }
    },
    "92c0ec45d55b41ddbee3d6ab32ddd5e5": {
     "model_module": "@jupyter-widgets/base",
     "model_module_version": "1.2.0",
     "model_name": "LayoutModel",
     "state": {
      "_model_module": "@jupyter-widgets/base",
      "_model_module_version": "1.2.0",
      "_model_name": "LayoutModel",
      "_view_count": null,
      "_view_module": "@jupyter-widgets/base",
      "_view_module_version": "1.2.0",
      "_view_name": "LayoutView",
      "align_content": null,
      "align_items": null,
      "align_self": null,
      "border": null,
      "bottom": null,
      "display": null,
      "flex": null,
      "flex_flow": null,
      "grid_area": null,
      "grid_auto_columns": null,
      "grid_auto_flow": null,
      "grid_auto_rows": null,
      "grid_column": null,
      "grid_gap": null,
      "grid_row": null,
      "grid_template_areas": null,
      "grid_template_columns": null,
      "grid_template_rows": null,
      "height": null,
      "justify_content": null,
      "justify_items": null,
      "left": null,
      "margin": null,
      "max_height": null,
      "max_width": null,
      "min_height": null,
      "min_width": null,
      "object_fit": null,
      "object_position": null,
      "order": null,
      "overflow": null,
      "overflow_x": null,
      "overflow_y": null,
      "padding": null,
      "right": null,
      "top": null,
      "visibility": null,
      "width": null
     }
    },
    "94ce3f2e561a43eea23fa0985a1acd2e": {
     "model_module": "@jupyter-widgets/controls",
     "model_module_version": "1.5.0",
     "model_name": "FloatProgressModel",
     "state": {
      "_dom_classes": [],
      "_model_module": "@jupyter-widgets/controls",
      "_model_module_version": "1.5.0",
      "_model_name": "FloatProgressModel",
      "_view_count": null,
      "_view_module": "@jupyter-widgets/controls",
      "_view_module_version": "1.5.0",
      "_view_name": "ProgressView",
      "bar_style": "success",
      "description": "",
      "description_tooltip": null,
      "layout": "IPY_MODEL_6d42fae9b66d4d749324733137f7133c",
      "max": 30,
      "min": 0,
      "orientation": "horizontal",
      "style": "IPY_MODEL_646e7aa25a614d71a400e72435ef12bd",
      "value": 30
     }
    },
    "9c4e7ef625934dc28cd59ac2acad275e": {
     "model_module": "@jupyter-widgets/controls",
     "model_module_version": "1.5.0",
     "model_name": "HBoxModel",
     "state": {
      "_dom_classes": [],
      "_model_module": "@jupyter-widgets/controls",
      "_model_module_version": "1.5.0",
      "_model_name": "HBoxModel",
      "_view_count": null,
      "_view_module": "@jupyter-widgets/controls",
      "_view_module_version": "1.5.0",
      "_view_name": "HBoxView",
      "box_style": "",
      "children": [
       "IPY_MODEL_310ad1d4f21d43539052bc841a5c5e7d",
       "IPY_MODEL_6abd25b0ce494fbdb4e0d94d9efe999e",
       "IPY_MODEL_d1b188677da04e17b3fcdb042e20e7d0"
      ],
      "layout": "IPY_MODEL_e01548b8c7bf43369521ea5c9319c6d3"
     }
    },
    "a037c02b31c14c7bbadfe91dba431313": {
     "model_module": "@jupyter-widgets/base",
     "model_module_version": "1.2.0",
     "model_name": "LayoutModel",
     "state": {
      "_model_module": "@jupyter-widgets/base",
      "_model_module_version": "1.2.0",
      "_model_name": "LayoutModel",
      "_view_count": null,
      "_view_module": "@jupyter-widgets/base",
      "_view_module_version": "1.2.0",
      "_view_name": "LayoutView",
      "align_content": null,
      "align_items": null,
      "align_self": null,
      "border": null,
      "bottom": null,
      "display": null,
      "flex": null,
      "flex_flow": null,
      "grid_area": null,
      "grid_auto_columns": null,
      "grid_auto_flow": null,
      "grid_auto_rows": null,
      "grid_column": null,
      "grid_gap": null,
      "grid_row": null,
      "grid_template_areas": null,
      "grid_template_columns": null,
      "grid_template_rows": null,
      "height": null,
      "justify_content": null,
      "justify_items": null,
      "left": null,
      "margin": null,
      "max_height": null,
      "max_width": null,
      "min_height": null,
      "min_width": null,
      "object_fit": null,
      "object_position": null,
      "order": null,
      "overflow": null,
      "overflow_x": null,
      "overflow_y": null,
      "padding": null,
      "right": null,
      "top": null,
      "visibility": null,
      "width": null
     }
    },
    "aae33921b1d54af2bdbfa9176d7ce74b": {
     "model_module": "@jupyter-widgets/controls",
     "model_module_version": "1.5.0",
     "model_name": "DescriptionStyleModel",
     "state": {
      "_model_module": "@jupyter-widgets/controls",
      "_model_module_version": "1.5.0",
      "_model_name": "DescriptionStyleModel",
      "_view_count": null,
      "_view_module": "@jupyter-widgets/base",
      "_view_module_version": "1.2.0",
      "_view_name": "StyleView",
      "description_width": ""
     }
    },
    "b2f6c29151b24fe494f1fec5a7356547": {
     "model_module": "@jupyter-widgets/base",
     "model_module_version": "1.2.0",
     "model_name": "LayoutModel",
     "state": {
      "_model_module": "@jupyter-widgets/base",
      "_model_module_version": "1.2.0",
      "_model_name": "LayoutModel",
      "_view_count": null,
      "_view_module": "@jupyter-widgets/base",
      "_view_module_version": "1.2.0",
      "_view_name": "LayoutView",
      "align_content": null,
      "align_items": null,
      "align_self": null,
      "border": null,
      "bottom": null,
      "display": null,
      "flex": null,
      "flex_flow": null,
      "grid_area": null,
      "grid_auto_columns": null,
      "grid_auto_flow": null,
      "grid_auto_rows": null,
      "grid_column": null,
      "grid_gap": null,
      "grid_row": null,
      "grid_template_areas": null,
      "grid_template_columns": null,
      "grid_template_rows": null,
      "height": null,
      "justify_content": null,
      "justify_items": null,
      "left": null,
      "margin": null,
      "max_height": null,
      "max_width": null,
      "min_height": null,
      "min_width": null,
      "object_fit": null,
      "object_position": null,
      "order": null,
      "overflow": null,
      "overflow_x": null,
      "overflow_y": null,
      "padding": null,
      "right": null,
      "top": null,
      "visibility": null,
      "width": null
     }
    },
    "b4d97e27c17b4acb80b03202175712c3": {
     "model_module": "@jupyter-widgets/base",
     "model_module_version": "1.2.0",
     "model_name": "LayoutModel",
     "state": {
      "_model_module": "@jupyter-widgets/base",
      "_model_module_version": "1.2.0",
      "_model_name": "LayoutModel",
      "_view_count": null,
      "_view_module": "@jupyter-widgets/base",
      "_view_module_version": "1.2.0",
      "_view_name": "LayoutView",
      "align_content": null,
      "align_items": null,
      "align_self": null,
      "border": null,
      "bottom": null,
      "display": null,
      "flex": null,
      "flex_flow": null,
      "grid_area": null,
      "grid_auto_columns": null,
      "grid_auto_flow": null,
      "grid_auto_rows": null,
      "grid_column": null,
      "grid_gap": null,
      "grid_row": null,
      "grid_template_areas": null,
      "grid_template_columns": null,
      "grid_template_rows": null,
      "height": null,
      "justify_content": null,
      "justify_items": null,
      "left": null,
      "margin": null,
      "max_height": null,
      "max_width": null,
      "min_height": null,
      "min_width": null,
      "object_fit": null,
      "object_position": null,
      "order": null,
      "overflow": null,
      "overflow_x": null,
      "overflow_y": null,
      "padding": null,
      "right": null,
      "top": null,
      "visibility": null,
      "width": null
     }
    },
    "c11e05f05d8f4a8186ca43545de5b23e": {
     "model_module": "@jupyter-widgets/base",
     "model_module_version": "1.2.0",
     "model_name": "LayoutModel",
     "state": {
      "_model_module": "@jupyter-widgets/base",
      "_model_module_version": "1.2.0",
      "_model_name": "LayoutModel",
      "_view_count": null,
      "_view_module": "@jupyter-widgets/base",
      "_view_module_version": "1.2.0",
      "_view_name": "LayoutView",
      "align_content": null,
      "align_items": null,
      "align_self": null,
      "border": null,
      "bottom": null,
      "display": null,
      "flex": null,
      "flex_flow": null,
      "grid_area": null,
      "grid_auto_columns": null,
      "grid_auto_flow": null,
      "grid_auto_rows": null,
      "grid_column": null,
      "grid_gap": null,
      "grid_row": null,
      "grid_template_areas": null,
      "grid_template_columns": null,
      "grid_template_rows": null,
      "height": null,
      "justify_content": null,
      "justify_items": null,
      "left": null,
      "margin": null,
      "max_height": null,
      "max_width": null,
      "min_height": null,
      "min_width": null,
      "object_fit": null,
      "object_position": null,
      "order": null,
      "overflow": null,
      "overflow_x": null,
      "overflow_y": null,
      "padding": null,
      "right": null,
      "top": null,
      "visibility": null,
      "width": null
     }
    },
    "c638b80c243343909a8cc1309fd72c2c": {
     "model_module": "@jupyter-widgets/base",
     "model_module_version": "1.2.0",
     "model_name": "LayoutModel",
     "state": {
      "_model_module": "@jupyter-widgets/base",
      "_model_module_version": "1.2.0",
      "_model_name": "LayoutModel",
      "_view_count": null,
      "_view_module": "@jupyter-widgets/base",
      "_view_module_version": "1.2.0",
      "_view_name": "LayoutView",
      "align_content": null,
      "align_items": null,
      "align_self": null,
      "border": null,
      "bottom": null,
      "display": null,
      "flex": null,
      "flex_flow": null,
      "grid_area": null,
      "grid_auto_columns": null,
      "grid_auto_flow": null,
      "grid_auto_rows": null,
      "grid_column": null,
      "grid_gap": null,
      "grid_row": null,
      "grid_template_areas": null,
      "grid_template_columns": null,
      "grid_template_rows": null,
      "height": null,
      "justify_content": null,
      "justify_items": null,
      "left": null,
      "margin": null,
      "max_height": null,
      "max_width": null,
      "min_height": null,
      "min_width": null,
      "object_fit": null,
      "object_position": null,
      "order": null,
      "overflow": null,
      "overflow_x": null,
      "overflow_y": null,
      "padding": null,
      "right": null,
      "top": null,
      "visibility": null,
      "width": null
     }
    },
    "d1b188677da04e17b3fcdb042e20e7d0": {
     "model_module": "@jupyter-widgets/controls",
     "model_module_version": "1.5.0",
     "model_name": "HTMLModel",
     "state": {
      "_dom_classes": [],
      "_model_module": "@jupyter-widgets/controls",
      "_model_module_version": "1.5.0",
      "_model_name": "HTMLModel",
      "_view_count": null,
      "_view_module": "@jupyter-widgets/controls",
      "_view_module_version": "1.5.0",
      "_view_name": "HTMLView",
      "description": "",
      "description_tooltip": null,
      "layout": "IPY_MODEL_a037c02b31c14c7bbadfe91dba431313",
      "placeholder": "​",
      "style": "IPY_MODEL_8865a3177f254c04be0c119a9a1ec900",
      "value": " 300/300 [00:23&lt;00:00, 17.48it/s]"
     }
    },
    "d6d7cf8f07894f76bb91a3578ab1bcef": {
     "model_module": "@jupyter-widgets/controls",
     "model_module_version": "1.5.0",
     "model_name": "FloatProgressModel",
     "state": {
      "_dom_classes": [],
      "_model_module": "@jupyter-widgets/controls",
      "_model_module_version": "1.5.0",
      "_model_name": "FloatProgressModel",
      "_view_count": null,
      "_view_module": "@jupyter-widgets/controls",
      "_view_module_version": "1.5.0",
      "_view_name": "ProgressView",
      "bar_style": "success",
      "description": "",
      "description_tooltip": null,
      "layout": "IPY_MODEL_92c0ec45d55b41ddbee3d6ab32ddd5e5",
      "max": 74990,
      "min": 0,
      "orientation": "horizontal",
      "style": "IPY_MODEL_66fc9d68adf7418d8f943e0f41bc0433",
      "value": 74990
     }
    },
    "db6dc5de911545e08212f4ff5b56ae73": {
     "model_module": "@jupyter-widgets/controls",
     "model_module_version": "1.5.0",
     "model_name": "DescriptionStyleModel",
     "state": {
      "_model_module": "@jupyter-widgets/controls",
      "_model_module_version": "1.5.0",
      "_model_name": "DescriptionStyleModel",
      "_view_count": null,
      "_view_module": "@jupyter-widgets/base",
      "_view_module_version": "1.2.0",
      "_view_name": "StyleView",
      "description_width": ""
     }
    },
    "e01548b8c7bf43369521ea5c9319c6d3": {
     "model_module": "@jupyter-widgets/base",
     "model_module_version": "1.2.0",
     "model_name": "LayoutModel",
     "state": {
      "_model_module": "@jupyter-widgets/base",
      "_model_module_version": "1.2.0",
      "_model_name": "LayoutModel",
      "_view_count": null,
      "_view_module": "@jupyter-widgets/base",
      "_view_module_version": "1.2.0",
      "_view_name": "LayoutView",
      "align_content": null,
      "align_items": null,
      "align_self": null,
      "border": null,
      "bottom": null,
      "display": null,
      "flex": null,
      "flex_flow": null,
      "grid_area": null,
      "grid_auto_columns": null,
      "grid_auto_flow": null,
      "grid_auto_rows": null,
      "grid_column": null,
      "grid_gap": null,
      "grid_row": null,
      "grid_template_areas": null,
      "grid_template_columns": null,
      "grid_template_rows": null,
      "height": null,
      "justify_content": null,
      "justify_items": null,
      "left": null,
      "margin": null,
      "max_height": null,
      "max_width": null,
      "min_height": null,
      "min_width": null,
      "object_fit": null,
      "object_position": null,
      "order": null,
      "overflow": null,
      "overflow_x": null,
      "overflow_y": null,
      "padding": null,
      "right": null,
      "top": null,
      "visibility": null,
      "width": null
     }
    },
    "ea3c9bd1e53448d0b401d9c58e1033fc": {
     "model_module": "@jupyter-widgets/controls",
     "model_module_version": "1.5.0",
     "model_name": "HTMLModel",
     "state": {
      "_dom_classes": [],
      "_model_module": "@jupyter-widgets/controls",
      "_model_module_version": "1.5.0",
      "_model_name": "HTMLModel",
      "_view_count": null,
      "_view_module": "@jupyter-widgets/controls",
      "_view_module_version": "1.5.0",
      "_view_name": "HTMLView",
      "description": "",
      "description_tooltip": null,
      "layout": "IPY_MODEL_b4d97e27c17b4acb80b03202175712c3",
      "placeholder": "​",
      "style": "IPY_MODEL_685cff310c264f988a5c4a7e29495aa9",
      "value": " 30/30 [00:21&lt;00:00,  1.55it/s]"
     }
    }
   }
  }
 },
 "nbformat": 4,
 "nbformat_minor": 1
}
